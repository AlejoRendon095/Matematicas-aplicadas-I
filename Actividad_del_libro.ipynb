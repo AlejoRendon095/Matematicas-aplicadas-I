{
  "nbformat": 4,
  "nbformat_minor": 0,
  "metadata": {
    "colab": {
      "provenance": [],
      "authorship_tag": "ABX9TyN9Z/O6Tet1GcBaZmLMNGen",
      "include_colab_link": true
    },
    "kernelspec": {
      "name": "python3",
      "display_name": "Python 3"
    },
    "language_info": {
      "name": "python"
    }
  },
  "cells": [
    {
      "cell_type": "markdown",
      "metadata": {
        "id": "view-in-github",
        "colab_type": "text"
      },
      "source": [
        "<a href=\"https://colab.research.google.com/github/AlejoRendon095/Matematicas-aplicadas-I/blob/main/Actividad_del_libro.ipynb\" target=\"_parent\"><img src=\"https://colab.research.google.com/assets/colab-badge.svg\" alt=\"Open In Colab\"/></a>"
      ]
    },
    {
      "cell_type": "markdown",
      "source": [
        "#<font color = \"Blue\">$Taller$ $Funciones$\n",
        "\n",
        "*   $Alejandro$ $Rendon$\n",
        "*   $Juan$ $Camilo$ $Criollo$\n",
        "*   $Esteban$ $Granda$\n",
        "\n",
        "\n",
        "\n",
        "\n"
      ],
      "metadata": {
        "id": "DsVFg39-lTTo"
      }
    },
    {
      "cell_type": "markdown",
      "source": [
        "<img src=https://i.pinimg.com/originals/1a/02/88/1a02882a1fbc9d475e49dae21124ebc3.gif width=\"500\" height=\"250\" align=\"center\">"
      ],
      "metadata": {
        "id": "uH4EZkHUntAG"
      }
    },
    {
      "cell_type": "markdown",
      "source": [
        "#<font color = \"Blue\">$2.3:$ $Limits$ $and$ $the$ $notion$ $of$ $continuity$"
      ],
      "metadata": {
        "id": "lykmalUEn9j9"
      }
    },
    {
      "cell_type": "markdown",
      "source": [
        "###<font color = \"Blue\">(1) Evaluate the following limits."
      ],
      "metadata": {
        "id": "2mVLyZicOQA5"
      }
    },
    {
      "cell_type": "markdown",
      "source": [
        "$(a)$ $Lim_{x\\to2}$ $(4x^2-3x)$\n",
        "\n",
        "$Respuesta$\n",
        "\n",
        " $Lim_{x\\to2}$ $[4(2)^2-3(2)]$ $=10$\n",
        "\n"
      ],
      "metadata": {
        "id": "d2qs_OKiodYJ"
      }
    },
    {
      "cell_type": "code",
      "source": [
        "import numpy as np\n",
        "\n",
        "def funcion(x):\n",
        "  return (4*x**2-3*x)\n",
        "\n",
        "funcion(2)"
      ],
      "metadata": {
        "colab": {
          "base_uri": "https://localhost:8080/"
        },
        "id": "JuBv04v0Kchr",
        "outputId": "a78a8b95-8dc9-4b54-f03a-6656a8bd674c"
      },
      "execution_count": null,
      "outputs": [
        {
          "output_type": "execute_result",
          "data": {
            "text/plain": [
              "10"
            ]
          },
          "metadata": {},
          "execution_count": 1
        }
      ]
    },
    {
      "cell_type": "markdown",
      "source": [
        "$(b)$ $Lim_{x\\to3}$ $(x^3-2x+3)$\n",
        "\n",
        "$Respuesta$\n",
        "\n",
        "$Lim_{x\\to3}$ $((3)^3-2(3)+3)$ $=$ $24$"
      ],
      "metadata": {
        "id": "g_Xuu1TIK66K"
      }
    },
    {
      "cell_type": "code",
      "source": [
        "import numpy as np\n",
        "\n",
        "def funcion(x):\n",
        "  return (x**3-2*x+3)\n",
        "\n",
        "funcion(3)\n"
      ],
      "metadata": {
        "colab": {
          "base_uri": "https://localhost:8080/"
        },
        "id": "Or6Ul-RTLjCv",
        "outputId": "c4d36a16-a100-4b17-e1b8-25e8550b2d4d"
      },
      "execution_count": null,
      "outputs": [
        {
          "output_type": "execute_result",
          "data": {
            "text/plain": [
              "24"
            ]
          },
          "metadata": {},
          "execution_count": 2
        }
      ]
    },
    {
      "cell_type": "markdown",
      "source": [
        "$(c)$ $Lim_{t\\to1}$ $\\frac{t^2-3}{t+5}$\n",
        "\n",
        "$Respuesta$\n",
        "\n",
        "$Lim_{t\\to1}$ $\\frac{t^2-3}{t+5}$ $=$$-0.333333$"
      ],
      "metadata": {
        "id": "iNjSNMYDLnlY"
      }
    },
    {
      "cell_type": "code",
      "source": [
        "import numpy as np\n",
        "\n",
        "def funcion(t):\n",
        "  return ((t**2-3)/(t+5))\n",
        "\n",
        "funcion(1)"
      ],
      "metadata": {
        "colab": {
          "base_uri": "https://localhost:8080/"
        },
        "id": "O2Y_ebe2M-GX",
        "outputId": "f8a74de0-dc32-434a-9de8-3c663788eb1a"
      },
      "execution_count": null,
      "outputs": [
        {
          "output_type": "execute_result",
          "data": {
            "text/plain": [
              "-0.3333333333333333"
            ]
          },
          "metadata": {},
          "execution_count": 3
        }
      ]
    },
    {
      "cell_type": "markdown",
      "source": [
        "$(d)$ $Lim_{z\\to-2}$ $\\frac{z+2}{z^2+3}$\n",
        "\n",
        "$Respuesta$\n",
        "\n",
        "$Lim_{z\\to-2}$ $\\frac{-2+2}{(-2)^2+3}$$=$$\\frac{0}{7}$$=$$0$\n"
      ],
      "metadata": {
        "id": "tSWWWyvDNLod"
      }
    },
    {
      "cell_type": "code",
      "source": [
        "import numpy as np\n",
        "\n",
        "def funcion(z):\n",
        "  return ((z+2)/(z**2+3))\n",
        "\n",
        "funcion(-2)\n"
      ],
      "metadata": {
        "colab": {
          "base_uri": "https://localhost:8080/"
        },
        "id": "6HaCxYLBOImT",
        "outputId": "214c83dd-0e3c-447e-c799-2a98716784f3"
      },
      "execution_count": null,
      "outputs": [
        {
          "output_type": "execute_result",
          "data": {
            "text/plain": [
              "0.0"
            ]
          },
          "metadata": {},
          "execution_count": 4
        }
      ]
    },
    {
      "cell_type": "markdown",
      "source": [
        "###<font color = \"Blue\">(2) Evaluate the following limits."
      ],
      "metadata": {
        "id": "gOsEquQsOon_"
      }
    },
    {
      "cell_type": "markdown",
      "source": [
        "$(a)$ $Lim_{x\\to2}$ $\\frac{x^3-8}{x+2}$\n",
        "\n",
        "$Respuesta$\n",
        "\n",
        "$Lim_{x\\to2}$ $\\frac{(2)^3-8}{(2)+2}$ $=$ $0$\n",
        "\n"
      ],
      "metadata": {
        "id": "WJ75uD_AOq4A"
      }
    },
    {
      "cell_type": "code",
      "source": [
        "import numpy as np\n",
        "def funcion(x):\n",
        "  return ((x**3-8)/(x+2))\n",
        "\n",
        "funcion(2)\n"
      ],
      "metadata": {
        "colab": {
          "base_uri": "https://localhost:8080/"
        },
        "id": "lCxpr8EcPXLr",
        "outputId": "01fbcfc3-56e0-4c6a-b92f-21c057bb5124"
      },
      "execution_count": null,
      "outputs": [
        {
          "output_type": "execute_result",
          "data": {
            "text/plain": [
              "0.0"
            ]
          },
          "metadata": {},
          "execution_count": 5
        }
      ]
    },
    {
      "cell_type": "markdown",
      "source": [
        "$(b)$ $Lim_{x\\to3}$ $\\frac{x^2-x+6}{x-3}$\n",
        "\n",
        "$Respuesta$\n",
        "\n",
        "$Lim_{x\\to3}$ $\\frac{(3)^2-(3)+6}{(3)-3}$ $=$ $\\frac{12}{0}$\n",
        "\n",
        "Podemos concluir que la funcion diverge, porque al hacercarnos en $Lim_{3^+}$ y en $Lim_{3^-}$ la funcion tiende a infitinto\n"
      ],
      "metadata": {
        "id": "q_BPPTTzPlYo"
      }
    },
    {
      "cell_type": "code",
      "source": [
        "import numpy as np\n",
        "\n",
        "def funcion(x):\n",
        "  return ((x**2-x+6)/(x-3))\n",
        "\n",
        "funcion(3)\n"
      ],
      "metadata": {
        "colab": {
          "base_uri": "https://localhost:8080/",
          "height": 332
        },
        "id": "tgcr8O4ESqOe",
        "outputId": "76c5f101-e7bd-4cd2-cd04-ba78dedbc691"
      },
      "execution_count": null,
      "outputs": [
        {
          "output_type": "error",
          "ename": "ZeroDivisionError",
          "evalue": "division by zero",
          "traceback": [
            "\u001b[0;31m---------------------------------------------------------------------------\u001b[0m",
            "\u001b[0;31mZeroDivisionError\u001b[0m                         Traceback (most recent call last)",
            "\u001b[0;32m<ipython-input-11-6dc93942b464>\u001b[0m in \u001b[0;36m<cell line: 6>\u001b[0;34m()\u001b[0m\n\u001b[1;32m      4\u001b[0m   \u001b[0;32mreturn\u001b[0m \u001b[0;34m(\u001b[0m\u001b[0;34m(\u001b[0m\u001b[0mx\u001b[0m\u001b[0;34m**\u001b[0m\u001b[0;36m2\u001b[0m\u001b[0;34m-\u001b[0m\u001b[0mx\u001b[0m\u001b[0;34m+\u001b[0m\u001b[0;36m6\u001b[0m\u001b[0;34m)\u001b[0m\u001b[0;34m/\u001b[0m\u001b[0;34m(\u001b[0m\u001b[0mx\u001b[0m\u001b[0;34m-\u001b[0m\u001b[0;36m3\u001b[0m\u001b[0;34m)\u001b[0m\u001b[0;34m)\u001b[0m\u001b[0;34m\u001b[0m\u001b[0;34m\u001b[0m\u001b[0m\n\u001b[1;32m      5\u001b[0m \u001b[0;34m\u001b[0m\u001b[0m\n\u001b[0;32m----> 6\u001b[0;31m \u001b[0;32mif\u001b[0m \u001b[0mfuncion\u001b[0m\u001b[0;34m(\u001b[0m\u001b[0;36m3\u001b[0m\u001b[0;34m)\u001b[0m \u001b[0;34m==\u001b[0m \u001b[0;36m0\u001b[0m\u001b[0;34m:\u001b[0m\u001b[0;34m\u001b[0m\u001b[0;34m\u001b[0m\u001b[0m\n\u001b[0m\u001b[1;32m      7\u001b[0m   \u001b[0mprint\u001b[0m\u001b[0;34m(\u001b[0m\u001b[0;34m\"La funcion diverge\"\u001b[0m\u001b[0;34m)\u001b[0m\u001b[0;34m\u001b[0m\u001b[0;34m\u001b[0m\u001b[0m\n\u001b[1;32m      8\u001b[0m \u001b[0;32melse\u001b[0m\u001b[0;34m:\u001b[0m\u001b[0;34m\u001b[0m\u001b[0;34m\u001b[0m\u001b[0m\n",
            "\u001b[0;32m<ipython-input-11-6dc93942b464>\u001b[0m in \u001b[0;36mfuncion\u001b[0;34m(x)\u001b[0m\n\u001b[1;32m      2\u001b[0m \u001b[0;34m\u001b[0m\u001b[0m\n\u001b[1;32m      3\u001b[0m \u001b[0;32mdef\u001b[0m \u001b[0mfuncion\u001b[0m\u001b[0;34m(\u001b[0m\u001b[0mx\u001b[0m\u001b[0;34m)\u001b[0m\u001b[0;34m:\u001b[0m\u001b[0;34m\u001b[0m\u001b[0;34m\u001b[0m\u001b[0m\n\u001b[0;32m----> 4\u001b[0;31m   \u001b[0;32mreturn\u001b[0m \u001b[0;34m(\u001b[0m\u001b[0;34m(\u001b[0m\u001b[0mx\u001b[0m\u001b[0;34m**\u001b[0m\u001b[0;36m2\u001b[0m\u001b[0;34m-\u001b[0m\u001b[0mx\u001b[0m\u001b[0;34m+\u001b[0m\u001b[0;36m6\u001b[0m\u001b[0;34m)\u001b[0m\u001b[0;34m/\u001b[0m\u001b[0;34m(\u001b[0m\u001b[0mx\u001b[0m\u001b[0;34m-\u001b[0m\u001b[0;36m3\u001b[0m\u001b[0;34m)\u001b[0m\u001b[0;34m)\u001b[0m\u001b[0;34m\u001b[0m\u001b[0;34m\u001b[0m\u001b[0m\n\u001b[0m\u001b[1;32m      5\u001b[0m \u001b[0;34m\u001b[0m\u001b[0m\n\u001b[1;32m      6\u001b[0m \u001b[0;32mif\u001b[0m \u001b[0mfuncion\u001b[0m\u001b[0;34m(\u001b[0m\u001b[0;36m3\u001b[0m\u001b[0;34m)\u001b[0m \u001b[0;34m==\u001b[0m \u001b[0;36m0\u001b[0m\u001b[0;34m:\u001b[0m\u001b[0;34m\u001b[0m\u001b[0;34m\u001b[0m\u001b[0m\n",
            "\u001b[0;31mZeroDivisionError\u001b[0m: division by zero"
          ]
        }
      ]
    },
    {
      "cell_type": "markdown",
      "source": [
        "$(c)$ $Lim_{s\\to-1}$ $\\frac{s^3+1}{s^4-1}$\n",
        "\n",
        "$Respuesta$\n",
        "\n",
        "$Lim_{s\\to-1}$ $\\frac{(-1)^3+1}{(-1)^4-1}$ $=$ $\\frac{0}{0}$\n",
        "\n",
        "transformamos\n",
        "\n",
        "$\\frac{(s+1)(s^2-s+1)}{(s^2+1)(s^2-1)}$\n",
        "\n",
        "$\\frac{(s+1)(s^2-s+1)}{(s^2+1)((s-1)(s+1)}$\n",
        "\n",
        "\n",
        "$\\frac{(s^2-s+1)}{(s^2+1)(s-1)}$\n",
        "\n",
        "Ahora queda\n",
        "\n",
        "\n",
        "$Lim_{s\\to-1}$$\\frac{((-1)^2-(-1)+1)}{((-1)^2+1)((-1)-1)}$ $=$ $\\frac{}{}$$-\\frac{3}{4}$\n",
        "\n"
      ],
      "metadata": {
        "id": "dPEk98G0So58"
      }
    },
    {
      "cell_type": "code",
      "source": [
        "import numpy as np\n",
        "\n",
        "\n",
        "def funcion(x):\n",
        "  return ((x**2-(x)+1)/((x**2+1)*(x-1)))\n",
        "\n",
        "funcion(-1)\n"
      ],
      "metadata": {
        "colab": {
          "base_uri": "https://localhost:8080/"
        },
        "id": "4ewg7cGodSeK",
        "outputId": "f2fc87bf-d4c1-4238-84b7-e332fee01e6f"
      },
      "execution_count": null,
      "outputs": [
        {
          "output_type": "execute_result",
          "data": {
            "text/plain": [
              "-0.75"
            ]
          },
          "metadata": {},
          "execution_count": 19
        }
      ]
    },
    {
      "cell_type": "markdown",
      "source": [
        "$(d)$ $Lim_{x\\to1}$ $\\frac{\\sqrt{x}-1}{x-1}$\n",
        "\n",
        "$Respuesta$\n",
        "\n",
        "$Lim_{x\\to1}$ $\\frac{\\sqrt{1}-1}{1-1}$ = $\\frac{0}{0}$\n",
        "\n",
        "quitamos la indeterminacion racionalizando\n",
        "\n",
        "$\\frac{(\\sqrt{x}-1)(\\sqrt{x}+1)}{(x-1)(\\sqrt{x}+1)}$\n",
        "\n",
        "$\\frac{((\\sqrt{x})^2+\\sqrt{x}-\\sqrt{x}-1)}{(x-1)(\\sqrt{x}+1)}$\n",
        "\n",
        "$\\frac{(x-1)}{(x-1)(\\sqrt{x}+1)}$\n",
        "\n",
        "$\\frac{1}{\\sqrt{x}+1}$\n",
        "\n",
        "Aplicamos el limite\n",
        "\n",
        "\n",
        "$Lim_{x\\to1}$$\\frac{1}{\\sqrt{1}+1}$ $=$ $\\frac{1}{2}$"
      ],
      "metadata": {
        "id": "qJfOP85Yflul"
      }
    },
    {
      "cell_type": "code",
      "source": [
        "import numpy as np\n",
        "\n",
        "def f(x):\n",
        "  return ((1)/(np.sqrt(x)+1))\n",
        "\n",
        "f(1)"
      ],
      "metadata": {
        "colab": {
          "base_uri": "https://localhost:8080/"
        },
        "id": "B1SBfPnOj3-N",
        "outputId": "c8e66c76-ea1d-4259-b404-bf3eda540e98"
      },
      "execution_count": null,
      "outputs": [
        {
          "output_type": "execute_result",
          "data": {
            "text/plain": [
              "0.5"
            ]
          },
          "metadata": {},
          "execution_count": 21
        }
      ]
    },
    {
      "cell_type": "markdown",
      "source": [
        "$(e)$ $Lim_{t\\to2}$ $\\frac{t^3-8}{t-2}$\n",
        "\n",
        "$Respuesta$\n",
        "\n",
        "$Lim_{t\\to2}$ $\\frac{2^3-8}{2-2}$$=$$\\frac{0}{0}$\n",
        "\n",
        "\n",
        "quitamos la indeterminacion\n",
        "\n",
        "$\\frac{(t-2)(t^2+2t+4)}{t-2}$\n",
        "\n",
        "$t^2+2t+4$\n",
        "\n",
        "$Lim_{t\\to2}$ $(2)^2+2(2)+4$ $=$ $12$\n",
        "\n",
        "\n"
      ],
      "metadata": {
        "id": "7PtSNUU4kT9-"
      }
    },
    {
      "cell_type": "code",
      "source": [
        "import numpy as np\n",
        "\n",
        "def f(x):\n",
        "  return ((x**2+2*x+4))\n",
        "\n",
        "f(2)"
      ],
      "metadata": {
        "colab": {
          "base_uri": "https://localhost:8080/"
        },
        "id": "MekJlybHn1vj",
        "outputId": "14f05bf3-ac51-405d-f18d-ca732b042624"
      },
      "execution_count": null,
      "outputs": [
        {
          "output_type": "execute_result",
          "data": {
            "text/plain": [
              "12"
            ]
          },
          "metadata": {},
          "execution_count": 26
        }
      ]
    },
    {
      "cell_type": "markdown",
      "source": [
        "$(f)$ $Lim_{x\\to1}$ $\\frac{x^3-1}{x^2-1}$\n",
        "\n",
        "$Respuesta$\n",
        "\n",
        "$Lim_{x\\to1}$ $\\frac{1^3-1}{1^2-1}$$=$$\\frac{0}{0}$\n",
        "\n",
        "quitamos indeterminacion\n",
        "\n",
        "$\\frac{(x-1)(x^2+1x+1)}{(x-1)(x+1)}$\n",
        "\n",
        "$\\frac{x^2+1x+1}{x+1}$\n",
        "\n",
        "\n",
        "$Lim_{x\\to1}$$\\frac{1^2+1(1)+1}{1+1}$$=$$\\frac{3}{2}$\n",
        "\n"
      ],
      "metadata": {
        "id": "7-i16i7voKVM"
      }
    },
    {
      "cell_type": "code",
      "source": [
        "import numpy as np\n",
        "\n",
        "def f(x):\n",
        "  return ((x**2+x+1)/(x+1))\n",
        "\n",
        "f(1)"
      ],
      "metadata": {
        "colab": {
          "base_uri": "https://localhost:8080/"
        },
        "id": "SgRPqAzcpzyE",
        "outputId": "fe90207a-247a-4915-934d-586e0716b2ee"
      },
      "execution_count": null,
      "outputs": [
        {
          "output_type": "execute_result",
          "data": {
            "text/plain": [
              "1.5"
            ]
          },
          "metadata": {},
          "execution_count": 27
        }
      ]
    },
    {
      "cell_type": "markdown",
      "source": [
        "$(g)$ $Lim_{u\\to4}$ $\\frac{u}{(u-4)^2}$\n",
        "\n",
        "$Respuesta$\n",
        "\n",
        "$Lim_{u\\to4}$ $\\frac{u}{(u-4)^2}$$=$$\\frac{4}{0}$\n",
        "\n",
        "\n",
        "$\\frac{u}{u^2-8u+16}$\n",
        "\n",
        "\n",
        "$Lim_{u\\to4}$$\\frac{4}{4^2-8(4)+16}$=$\\frac{4}{0}$\n",
        "\n",
        "Este limite es divergente"
      ],
      "metadata": {
        "id": "l_B_RAZXqDWM"
      }
    },
    {
      "cell_type": "code",
      "source": [
        "import numpy as np\n",
        "\n",
        "def f(x):\n",
        "  return ((x)/(x-4)**2)\n",
        "\n",
        "f(4)"
      ],
      "metadata": {
        "colab": {
          "base_uri": "https://localhost:8080/",
          "height": 297
        },
        "id": "TK-X76Kmr5xn",
        "outputId": "f6406e55-4871-4266-bee0-de7254bcb666"
      },
      "execution_count": null,
      "outputs": [
        {
          "output_type": "error",
          "ename": "ZeroDivisionError",
          "evalue": "division by zero",
          "traceback": [
            "\u001b[0;31m---------------------------------------------------------------------------\u001b[0m",
            "\u001b[0;31mZeroDivisionError\u001b[0m                         Traceback (most recent call last)",
            "\u001b[0;32m<ipython-input-28-6f59792abd80>\u001b[0m in \u001b[0;36m<cell line: 6>\u001b[0;34m()\u001b[0m\n\u001b[1;32m      4\u001b[0m   \u001b[0;32mreturn\u001b[0m \u001b[0;34m(\u001b[0m\u001b[0;34m(\u001b[0m\u001b[0mx\u001b[0m\u001b[0;34m)\u001b[0m\u001b[0;34m/\u001b[0m\u001b[0;34m(\u001b[0m\u001b[0mx\u001b[0m\u001b[0;34m-\u001b[0m\u001b[0;36m4\u001b[0m\u001b[0;34m)\u001b[0m\u001b[0;34m**\u001b[0m\u001b[0;36m2\u001b[0m\u001b[0;34m)\u001b[0m\u001b[0;34m\u001b[0m\u001b[0;34m\u001b[0m\u001b[0m\n\u001b[1;32m      5\u001b[0m \u001b[0;34m\u001b[0m\u001b[0m\n\u001b[0;32m----> 6\u001b[0;31m \u001b[0mf\u001b[0m\u001b[0;34m(\u001b[0m\u001b[0;36m4\u001b[0m\u001b[0;34m)\u001b[0m\u001b[0;34m\u001b[0m\u001b[0;34m\u001b[0m\u001b[0m\n\u001b[0m",
            "\u001b[0;32m<ipython-input-28-6f59792abd80>\u001b[0m in \u001b[0;36mf\u001b[0;34m(x)\u001b[0m\n\u001b[1;32m      2\u001b[0m \u001b[0;34m\u001b[0m\u001b[0m\n\u001b[1;32m      3\u001b[0m \u001b[0;32mdef\u001b[0m \u001b[0mf\u001b[0m\u001b[0;34m(\u001b[0m\u001b[0mx\u001b[0m\u001b[0;34m)\u001b[0m\u001b[0;34m:\u001b[0m\u001b[0;34m\u001b[0m\u001b[0;34m\u001b[0m\u001b[0m\n\u001b[0;32m----> 4\u001b[0;31m   \u001b[0;32mreturn\u001b[0m \u001b[0;34m(\u001b[0m\u001b[0;34m(\u001b[0m\u001b[0mx\u001b[0m\u001b[0;34m)\u001b[0m\u001b[0;34m/\u001b[0m\u001b[0;34m(\u001b[0m\u001b[0mx\u001b[0m\u001b[0;34m-\u001b[0m\u001b[0;36m4\u001b[0m\u001b[0;34m)\u001b[0m\u001b[0;34m**\u001b[0m\u001b[0;36m2\u001b[0m\u001b[0;34m)\u001b[0m\u001b[0;34m\u001b[0m\u001b[0;34m\u001b[0m\u001b[0m\n\u001b[0m\u001b[1;32m      5\u001b[0m \u001b[0;34m\u001b[0m\u001b[0m\n\u001b[1;32m      6\u001b[0m \u001b[0mf\u001b[0m\u001b[0;34m(\u001b[0m\u001b[0;36m4\u001b[0m\u001b[0;34m)\u001b[0m\u001b[0;34m\u001b[0m\u001b[0;34m\u001b[0m\u001b[0m\n",
            "\u001b[0;31mZeroDivisionError\u001b[0m: division by zero"
          ]
        }
      ]
    },
    {
      "cell_type": "markdown",
      "source": [
        "$(h)$ $Lim_{h\\to-2}$ $\\frac{x}{(x+2)}$\n",
        "\n",
        "$Respuesta$\n",
        "\n",
        "$Lim_{h\\to-2}$ $\\frac{-2}{(-2+2)}$ $=$ $\\frac{-2}{0}$\n",
        "\n",
        "limite divergente"
      ],
      "metadata": {
        "id": "iKWtF2Hur98V"
      }
    },
    {
      "cell_type": "code",
      "source": [
        "import numpy as np\n",
        "def f(x):\n",
        "  return ((x)/((x+2)))\n",
        "\n",
        "f(-2)\n"
      ],
      "metadata": {
        "colab": {
          "base_uri": "https://localhost:8080/",
          "height": 297
        },
        "id": "k-6t2B1tsqsT",
        "outputId": "1c561df6-14f7-46ca-a26b-80ad1d215365"
      },
      "execution_count": null,
      "outputs": [
        {
          "output_type": "error",
          "ename": "ZeroDivisionError",
          "evalue": "division by zero",
          "traceback": [
            "\u001b[0;31m---------------------------------------------------------------------------\u001b[0m",
            "\u001b[0;31mZeroDivisionError\u001b[0m                         Traceback (most recent call last)",
            "\u001b[0;32m<ipython-input-29-80c1188a99a2>\u001b[0m in \u001b[0;36m<cell line: 5>\u001b[0;34m()\u001b[0m\n\u001b[1;32m      3\u001b[0m   \u001b[0;32mreturn\u001b[0m \u001b[0;34m(\u001b[0m\u001b[0;34m(\u001b[0m\u001b[0mx\u001b[0m\u001b[0;34m)\u001b[0m\u001b[0;34m/\u001b[0m\u001b[0;34m(\u001b[0m\u001b[0;34m(\u001b[0m\u001b[0mx\u001b[0m\u001b[0;34m+\u001b[0m\u001b[0;36m2\u001b[0m\u001b[0;34m)\u001b[0m\u001b[0;34m)\u001b[0m\u001b[0;34m)\u001b[0m\u001b[0;34m\u001b[0m\u001b[0;34m\u001b[0m\u001b[0m\n\u001b[1;32m      4\u001b[0m \u001b[0;34m\u001b[0m\u001b[0m\n\u001b[0;32m----> 5\u001b[0;31m \u001b[0mf\u001b[0m\u001b[0;34m(\u001b[0m\u001b[0;34m-\u001b[0m\u001b[0;36m2\u001b[0m\u001b[0;34m)\u001b[0m\u001b[0;34m\u001b[0m\u001b[0;34m\u001b[0m\u001b[0m\n\u001b[0m",
            "\u001b[0;32m<ipython-input-29-80c1188a99a2>\u001b[0m in \u001b[0;36mf\u001b[0;34m(x)\u001b[0m\n\u001b[1;32m      1\u001b[0m \u001b[0;32mimport\u001b[0m \u001b[0mnumpy\u001b[0m \u001b[0;32mas\u001b[0m \u001b[0mnp\u001b[0m\u001b[0;34m\u001b[0m\u001b[0;34m\u001b[0m\u001b[0m\n\u001b[1;32m      2\u001b[0m \u001b[0;32mdef\u001b[0m \u001b[0mf\u001b[0m\u001b[0;34m(\u001b[0m\u001b[0mx\u001b[0m\u001b[0;34m)\u001b[0m\u001b[0;34m:\u001b[0m\u001b[0;34m\u001b[0m\u001b[0;34m\u001b[0m\u001b[0m\n\u001b[0;32m----> 3\u001b[0;31m   \u001b[0;32mreturn\u001b[0m \u001b[0;34m(\u001b[0m\u001b[0;34m(\u001b[0m\u001b[0mx\u001b[0m\u001b[0;34m)\u001b[0m\u001b[0;34m/\u001b[0m\u001b[0;34m(\u001b[0m\u001b[0;34m(\u001b[0m\u001b[0mx\u001b[0m\u001b[0;34m+\u001b[0m\u001b[0;36m2\u001b[0m\u001b[0;34m)\u001b[0m\u001b[0;34m)\u001b[0m\u001b[0;34m)\u001b[0m\u001b[0;34m\u001b[0m\u001b[0;34m\u001b[0m\u001b[0m\n\u001b[0m\u001b[1;32m      4\u001b[0m \u001b[0;34m\u001b[0m\u001b[0m\n\u001b[1;32m      5\u001b[0m \u001b[0mf\u001b[0m\u001b[0;34m(\u001b[0m\u001b[0;34m-\u001b[0m\u001b[0;36m2\u001b[0m\u001b[0;34m)\u001b[0m\u001b[0;34m\u001b[0m\u001b[0;34m\u001b[0m\u001b[0m\n",
            "\u001b[0;31mZeroDivisionError\u001b[0m: division by zero"
          ]
        }
      ]
    },
    {
      "cell_type": "markdown",
      "source": [
        "###<font color = \"Blue\">(3) Evaluate the following limits."
      ],
      "metadata": {
        "id": "4KPOTcIAsvw2"
      }
    },
    {
      "cell_type": "markdown",
      "source": [
        "$(a)$ $Lim_{x\\to1^+}$ $(3x^2+4)$\n",
        "\n",
        "$Respuesta$\n",
        "\n",
        "$Lim_{x\\to1^+}$ $(3(1)^2+4)$ $=$ $7$\n",
        "\n",
        "\n"
      ],
      "metadata": {
        "id": "-2uPi-WRtDzF"
      }
    },
    {
      "cell_type": "code",
      "source": [
        "import numpy as np\n",
        "\n",
        "def f(x):\n",
        "  return (3*x**2+4)\n",
        "\n",
        "f(1)\n"
      ],
      "metadata": {
        "colab": {
          "base_uri": "https://localhost:8080/"
        },
        "id": "5hFCW-HAmeZh",
        "outputId": "4041a4a2-aa0a-4143-f6a8-fb8a2a29106e"
      },
      "execution_count": null,
      "outputs": [
        {
          "output_type": "execute_result",
          "data": {
            "text/plain": [
              "7"
            ]
          },
          "metadata": {},
          "execution_count": 1
        }
      ]
    },
    {
      "cell_type": "markdown",
      "source": [
        "$(b)$ $Lim_{x\\to3^-}$ $\\frac{1}{x-3}$\n",
        "\n",
        "$Respuesta$\n",
        "\n",
        "$Lim_{x\\to3^-}$ $\\frac{1}{2.9-3}$ $=$ $\\frac{1}{-0.1}$ $=$ $-10$\n",
        "\n",
        "\n",
        "$Lim_{x\\to3^-}$ $\\frac{1}{2.99-3}$ $=$ $\\frac{1}{-0.01}$ $=$ $-100$\n",
        "\n",
        "$Lim_{x\\to3^-}$ $\\frac{1}{2.999-3}$ $=$ $\\frac{1}{-0.001}$ $=$ $-1000$\n",
        "\n",
        "$En $ $conclucion$\n",
        "\n",
        "$Lim_{x\\to3^-}$ $\\frac{1}{x-3}$ $=$ $-∞$"
      ],
      "metadata": {
        "id": "p1H1fmZ2mjJ-"
      }
    },
    {
      "cell_type": "code",
      "source": [
        "import numpy as np\n",
        "\n",
        "def f(x):\n",
        "  return ((1)/(x-3))\n",
        "\n",
        "print(f(2.9))\n",
        "print(f(2.99))\n",
        "print(f(2.999))\n"
      ],
      "metadata": {
        "colab": {
          "base_uri": "https://localhost:8080/"
        },
        "id": "Kh99Bsb-oCbG",
        "outputId": "ae25475a-c93b-4db8-91d3-702c73150db5"
      },
      "execution_count": null,
      "outputs": [
        {
          "output_type": "stream",
          "name": "stdout",
          "text": [
            "-9.999999999999991\n",
            "-100.00000000000213\n",
            "-1000.0000000001102\n"
          ]
        }
      ]
    },
    {
      "cell_type": "markdown",
      "source": [
        "$(c)$ $Lim_{x\\to3^+}$ $\\frac{1}{x-3}$\n",
        "\n",
        "Respuesta$\n",
        "\n",
        "$Lim_{x\\to3^+}$ $\\frac{1}{3.1-3}$ $=$ $\\frac{1}{0.1}$ $=$ $10$\n",
        "\n",
        "\n",
        "$Lim_{x\\to3^+}$ $\\frac{1}{3.01-3}$ $=$ $\\frac{1}{0.01}$ $=$ $100$\n",
        "\n",
        "$Lim_{x\\to3^+}$ $\\frac{1}{3.001-3}$ $=$ $\\frac{1}{0.001}$ $=$ $1000$\n",
        "\n",
        "$En $ $conclucion$\n",
        "\n",
        "$Lim_{x\\to3^+}$ $\\frac{1}{x-3}$ $=$ $+∞$"
      ],
      "metadata": {
        "id": "2PpqP37do4kW"
      }
    },
    {
      "cell_type": "code",
      "source": [
        "import numpy as np\n",
        "\n",
        "def f(x):\n",
        "  return ((1)/(x-3))\n",
        "\n",
        "print(f(3.1))\n",
        "print(f(3.01))\n",
        "print(f(3.001))"
      ],
      "metadata": {
        "colab": {
          "base_uri": "https://localhost:8080/"
        },
        "id": "YTUU3aGipZkR",
        "outputId": "0390c169-8273-4652-81cc-adccfb17278d"
      },
      "execution_count": null,
      "outputs": [
        {
          "output_type": "stream",
          "name": "stdout",
          "text": [
            "9.999999999999991\n",
            "100.00000000000213\n",
            "1000.0000000001102\n"
          ]
        }
      ]
    },
    {
      "cell_type": "markdown",
      "source": [
        "$(d)$ $Lim_{t\\to-2^+}$ $\\frac{t}{t+2}$\n",
        "\n",
        "$Respuesta$\n",
        "\n",
        "$Lim_{t\\to-2^+}$ $\\frac{-1.9}{-1.9+2}$ $=$ $\\frac{-1.9}{0.1}$ $=$ $-19$\n",
        "\n",
        "\n",
        "$Lim_{t\\to-2^+}$ $\\frac{-1.99}{-1.99+2}$ $=$ $\\frac{-1.99}{0.01}$ $=$ $-199$\n",
        "\n",
        "\n",
        "$Lim_{t\\to-2^+}$ $\\frac{-1.999}{-1.999+2}$ $=$ $\\frac{-1.999}{0.001}$ $=$ $-1999$\n",
        "\n",
        "$En$ $Conclusion$\n",
        "\n",
        "$Lim_{t\\to-2^+}$ $\\frac{t}{t+2}$ $=$ $-∞$\n",
        "\n",
        "\n",
        "\n"
      ],
      "metadata": {
        "id": "IaKzACa5pe4d"
      }
    },
    {
      "cell_type": "code",
      "source": [
        "import numpy as np\n",
        "\n",
        "def f(x):\n",
        "  return ((x)/(x+2))\n",
        "\n",
        "print(f(-1.9))\n",
        "print(f(-1.99))\n",
        "print(f(-1.999))"
      ],
      "metadata": {
        "colab": {
          "base_uri": "https://localhost:8080/"
        },
        "id": "ZCe_11kksBIB",
        "outputId": "d65201b5-8ca9-415f-fecb-3e10ef99cfa7"
      },
      "execution_count": null,
      "outputs": [
        {
          "output_type": "stream",
          "name": "stdout",
          "text": [
            "-18.999999999999982\n",
            "-198.99999999999983\n",
            "-1999.0000000002203\n"
          ]
        }
      ]
    },
    {
      "cell_type": "markdown",
      "source": [
        "$(e)$ $Lim_{t\\to-2^-}$ $\\frac{t}{t+2}$\n",
        "\n",
        "$Respuesta$\n",
        "\n",
        "$Lim_{t\\to-2^-}$ $\\frac{-2.1}{-2.1+2}$ $=$ $\\frac{-2.1}{-0.1}$ $=$ $21$\n",
        "\n",
        "\n",
        "$Lim_{t\\to-2^-}$ $\\frac{-2.01}{-2.01+2}$ $=$ $\\frac{-2.01}{-0.01}$ $=$ $201$\n",
        "\n",
        "\n",
        "$Lim_{t\\to-2^-}$ $\\frac{-2.001}{-2.001+2}$ $=$ $\\frac{-2.001}{-0.001}$ $=$ $2001$\n",
        "\n",
        "$En$ $Conclusion$\n",
        "\n",
        "$Lim_{t\\to-2^-}$ $\\frac{t}{t+2}$ $=$ $∞$"
      ],
      "metadata": {
        "id": "uWLqUvkysWgv"
      }
    },
    {
      "cell_type": "code",
      "source": [
        "import numpy as np\n",
        "\n",
        "def f(x):\n",
        "  return ((x)/(x+2))\n",
        "\n",
        "print(f(-2.1))\n",
        "print(f(-2.01))\n",
        "print(f(-2.001))"
      ],
      "metadata": {
        "colab": {
          "base_uri": "https://localhost:8080/"
        },
        "id": "TA_uStf0tqN4",
        "outputId": "b3fa133f-3540-4d12-fe3b-eee60e7cf0af"
      },
      "execution_count": null,
      "outputs": [
        {
          "output_type": "stream",
          "name": "stdout",
          "text": [
            "20.999999999999982\n",
            "201.00000000000426\n",
            "2001.0000000002203\n"
          ]
        }
      ]
    },
    {
      "cell_type": "markdown",
      "source": [
        "$(f)$ $Lim_{x\\to10^-}$ $\\frac{x^2-9x-10}{x^2-8x-20}$\n",
        "\n",
        "$Respuesta$\n",
        "\n",
        "$Lim_{x\\to10^-}$ $\\frac{(10.1)^2-9(10.1)-10}{(10.1)^2-8(10.1)-20}$ $=$ $\\frac{1,11}{1,12}$ $=$ $0.917355$\n",
        "\n",
        "$Lim_{x\\to10^-}$ $\\frac{(10.01)^2-9(10.01)-10}{(10.01)^2-8(10.01)-20}$ $=$ $\\frac{1,1101}{1,1201}$ $=$ $0.9167$\n",
        "\n",
        "$Lim_{x\\to10^-}$ $\\frac{(10.001)^2-9(10.001)-10}{(10.001)^2-8(10.001)-20}$ $=$ $\\frac{1,011001}{1,012001}$ $=$ $0.91667$\n",
        "\n",
        "$Tenemos$ $que$\n",
        "\n",
        "$Lim_{x\\to10^-}$ $\\frac{x^2-9x-10}{x^2-8x-20}$ $≈$ $0.916$\n",
        "\n",
        "\n"
      ],
      "metadata": {
        "id": "5jxPtz0atxG0"
      }
    },
    {
      "cell_type": "code",
      "source": [
        "import numpy as np\n",
        "\n",
        "def f(i):\n",
        "  return ((i**2-9*i-10)/(i**2-8*i-20))\n",
        "\n",
        "print(f(10.1))\n",
        "print(f(10.01))\n",
        "print(f(10.001))"
      ],
      "metadata": {
        "colab": {
          "base_uri": "https://localhost:8080/"
        },
        "id": "kCA-Eje9mDir",
        "outputId": "e652045d-d936-46c8-9dec-8643c34cd853"
      },
      "execution_count": null,
      "outputs": [
        {
          "output_type": "stream",
          "name": "stdout",
          "text": [
            "0.9173553719008307\n",
            "0.9167360532888789\n",
            "0.9166736105320434\n"
          ]
        }
      ]
    },
    {
      "cell_type": "markdown",
      "source": [
        "###<font color = \"Blue\">(4) Evaluate the following limits."
      ],
      "metadata": {
        "id": "0SUs-5Dsm0OG"
      }
    },
    {
      "cell_type": "markdown",
      "source": [
        "$(a)$ $Lim_{x\\to2^+}$ $|x|$\n",
        "\n",
        "$Respuesta$\n",
        "\n",
        "$Lim_{x\\to2^+}$ $|2|$ $=$ $2$\n",
        "\n"
      ],
      "metadata": {
        "id": "pnN6WJ5PnJSP"
      }
    },
    {
      "cell_type": "code",
      "source": [
        "import numpy as np\n",
        "\n",
        "def f(x):\n",
        "  return (abs(x))\n",
        "\n",
        "f(2)"
      ],
      "metadata": {
        "colab": {
          "base_uri": "https://localhost:8080/"
        },
        "id": "RBPg6ydOp3eQ",
        "outputId": "deb7104d-189c-474c-8b84-2ffc9963053b"
      },
      "execution_count": null,
      "outputs": [
        {
          "output_type": "execute_result",
          "data": {
            "text/plain": [
              "2"
            ]
          },
          "metadata": {},
          "execution_count": 7
        }
      ]
    },
    {
      "cell_type": "markdown",
      "source": [
        "$(b)$ $Lim_{x\\to2^-}$ $|x|$\n",
        "\n",
        "$Respuesta$\n",
        "\n",
        "$Lim_{x\\to2^-}$ $|2|$ $=$ $2$"
      ],
      "metadata": {
        "id": "C1vkU2h8p8NY"
      }
    },
    {
      "cell_type": "code",
      "source": [
        "import numpy as np\n",
        "\n",
        "def f(x):\n",
        "  return (abs(x))\n",
        "\n",
        "f(2)"
      ],
      "metadata": {
        "colab": {
          "base_uri": "https://localhost:8080/"
        },
        "id": "7SZ9trm4qwsK",
        "outputId": "e74bb119-091b-4ccf-c7bd-5cd2fd027c50"
      },
      "execution_count": null,
      "outputs": [
        {
          "output_type": "execute_result",
          "data": {
            "text/plain": [
              "2"
            ]
          },
          "metadata": {},
          "execution_count": 8
        }
      ]
    },
    {
      "cell_type": "markdown",
      "source": [
        "$(c)$ $Lim_{x\\to3^-}$ $|x|$\n",
        "\n",
        "$Respuesta$\n",
        "\n",
        "$Lim_{x\\to3^-}$ $|3|$ $=$ $3$\n"
      ],
      "metadata": {
        "id": "xPtd8yZRq1TX"
      }
    },
    {
      "cell_type": "code",
      "source": [
        "import numpy as np\n",
        "\n",
        "def f(x):\n",
        "  return (abs(x))\n",
        "\n",
        "print(f(3))"
      ],
      "metadata": {
        "colab": {
          "base_uri": "https://localhost:8080/"
        },
        "id": "gHWzhhZws6vS",
        "outputId": "b86d20b7-73b5-4061-d3b0-e75b2125b470"
      },
      "execution_count": null,
      "outputs": [
        {
          "output_type": "stream",
          "name": "stdout",
          "text": [
            "3\n"
          ]
        }
      ]
    },
    {
      "cell_type": "markdown",
      "source": [
        "$(d)$ $Lim_{x\\to3^+}$ $|x|$\n",
        "\n",
        "$Respuesta$\n",
        "\n",
        "$Lim_{x\\to3^+}$ $|3|$ $=$ $3$"
      ],
      "metadata": {
        "id": "njCO5B1ktHuW"
      }
    },
    {
      "cell_type": "code",
      "source": [
        "import numpy as np\n",
        "\n",
        "def f(x):\n",
        "  return (abs(x))\n",
        "\n",
        "print(f(3))"
      ],
      "metadata": {
        "colab": {
          "base_uri": "https://localhost:8080/"
        },
        "id": "SqQyaTBvtxwq",
        "outputId": "ae7a8c88-a7fc-498b-e46c-e47da6ba0a38"
      },
      "execution_count": null,
      "outputs": [
        {
          "output_type": "stream",
          "name": "stdout",
          "text": [
            "3\n"
          ]
        }
      ]
    },
    {
      "cell_type": "markdown",
      "source": [
        "$(e)$ $Lim_{x\\to0^+}$ $[Cos(x)]$\n",
        "\n",
        "$Respuesta$\n",
        "\n",
        "$Lim_{x\\to0^+}$ $[Cos(0)]$ $=$ $1$"
      ],
      "metadata": {
        "id": "QVnqxusEvtuW"
      }
    },
    {
      "cell_type": "code",
      "source": [
        "import numpy as np\n",
        "\n",
        "def f(x):\n",
        "  return (np.cos(x))\n",
        "\n",
        "print(f(0))\n"
      ],
      "metadata": {
        "colab": {
          "base_uri": "https://localhost:8080/"
        },
        "id": "RZabQgrHepZE",
        "outputId": "1b935b70-7ed9-454f-ea6b-d33430cf93eb"
      },
      "execution_count": null,
      "outputs": [
        {
          "output_type": "stream",
          "name": "stdout",
          "text": [
            "1.0\n"
          ]
        }
      ]
    },
    {
      "cell_type": "markdown",
      "source": [
        "$(f)$ $Lim_{x\\to0^+}$ $[Sin(x)]$\n",
        "\n",
        "$Respuesta$\n",
        "\n",
        "$Lim_{x\\to0^+}$ $[Sin(0)]$ $=$ $0$"
      ],
      "metadata": {
        "id": "G9OjxDmIe6Rz"
      }
    },
    {
      "cell_type": "code",
      "source": [
        "import numpy as np\n",
        "\n",
        "def f(x):\n",
        "  return (np.sin(x))\n",
        "\n",
        "print(f(0))"
      ],
      "metadata": {
        "colab": {
          "base_uri": "https://localhost:8080/"
        },
        "id": "EUiiIVzFfH1l",
        "outputId": "00a88c49-e5c7-4c95-a4f0-b6085658f0ca"
      },
      "execution_count": null,
      "outputs": [
        {
          "output_type": "stream",
          "name": "stdout",
          "text": [
            "0.0\n"
          ]
        }
      ]
    },
    {
      "cell_type": "markdown",
      "source": [
        "###<font color = \"Blue\">(5) Suppose\n",
        "\n",
        "$g(x)= \\left\\{ \\begin{array} \\\\ 3z-1 & si &  z < 2 \\\\ \\\\ 7-z & si & z \\geq 2 \\end{array} \\right.$\n",
        "\n",
        "\n",
        "$(a)$ $Sketch$ $the$ $graph$ $of$ $g.$\n",
        "\n"
      ],
      "metadata": {
        "id": "cAJI6PjIfbO0"
      }
    },
    {
      "cell_type": "code",
      "source": [
        "import numpy as np\n",
        "import matplotlib.pyplot as plt\n",
        "\n",
        "def g(x):\n",
        "    return np.where(x < 2, 3*x - 1, 7 - x)\n",
        "\n",
        "\n",
        "x = np.linspace(0, 4, 1000)\n",
        "\n",
        "y = g(x)\n",
        "\n",
        "\n",
        "plt.plot(x, y, color=\"blue\", label=\"g(x)\")\n",
        "plt.xlabel(\"x\")\n",
        "plt.ylabel(\"y\")\n",
        "plt.title(\"Grafica de g(x)\")\n",
        "plt.grid(linestyle=\"--\")\n",
        "plt.axvline(x=2, color='red', linestyle=':', label=\"x=2 (Punto de cambio)\")\n",
        "plt.legend()\n",
        "\n",
        "plt.show()\n"
      ],
      "metadata": {
        "colab": {
          "base_uri": "https://localhost:8080/",
          "height": 472
        },
        "id": "TmkOC3iUcYNK",
        "outputId": "e5104b84-655f-4c76-cf74-a015e9ed40bb"
      },
      "execution_count": null,
      "outputs": [
        {
          "output_type": "display_data",
          "data": {
            "text/plain": [
              "<Figure size 640x480 with 1 Axes>"
            ],
            "image/png": "[encoded data removed]"
          },
          "metadata": {}
        }
      ]
    },
    {
      "cell_type": "markdown",
      "source": [
        "$(b)$ $Find$ $lim_{z→2^−} g(z).$\n",
        "\n",
        "\n",
        "$Respuesta$\n",
        "\n",
        "$lim_{z→2^−} g(1.999).$ $=$ $4,997$\n",
        "\n",
        "con valores cercanos a $z=2$ desde la izquierda obtenemos valores muy cercanos a $5$ lo que nos lleva a concluir que:\n",
        "\n",
        "$lim_{z→2^−} g(z).$ $≈$ $5$"
      ],
      "metadata": {
        "id": "2B0QUbX9fCBl"
      }
    },
    {
      "cell_type": "code",
      "source": [
        "import numpy as np\n",
        "\n",
        "def f(x):\n",
        "  return np.where(x < 2, 3*x - 1, 7 - x)\n",
        "\n",
        "print(f(1.999))"
      ],
      "metadata": {
        "colab": {
          "base_uri": "https://localhost:8080/"
        },
        "id": "svLf6A2dokAS",
        "outputId": "e26d69d4-1969-47d3-8ba7-20a74ca1f94b"
      },
      "execution_count": null,
      "outputs": [
        {
          "output_type": "stream",
          "name": "stdout",
          "text": [
            "4.997\n"
          ]
        }
      ]
    },
    {
      "cell_type": "markdown",
      "source": [
        "$(c)$ $Find$ $lim_{z→2^+} g(z).$\n",
        "\n",
        "$Respuesta$\n",
        "\n",
        "$lim_{z→2^+} g(2.01).$ $=$ $4.99$\n",
        "\n",
        "con valores cercanos a  z=2  desde la derecha obtenemos valores muy cercanos a  5  lo que nos lleva a concluir que:\n",
        "\n",
        "$lim_{z→2^+}$ $g(z).$   $≈$   $5$"
      ],
      "metadata": {
        "id": "aTMuNEFkopRn"
      }
    },
    {
      "cell_type": "code",
      "source": [
        "import numpy as np\n",
        "\n",
        "def f(x):\n",
        "  return np.where(x < 2, 3*x - 1, 7 - x)\n",
        "\n",
        "print(f(2.01))"
      ],
      "metadata": {
        "colab": {
          "base_uri": "https://localhost:8080/"
        },
        "id": "V6r7YnOUp93X",
        "outputId": "527d495a-b854-4a43-b9b0-9a0567358d18"
      },
      "execution_count": null,
      "outputs": [
        {
          "output_type": "stream",
          "name": "stdout",
          "text": [
            "4.99\n"
          ]
        }
      ]
    },
    {
      "cell_type": "markdown",
      "source": [
        "$(d)$ $Does$ $lim_{z→2} g(z).$ $exist?$ $If$ $so,$ $what$ $is$ $its$ $value?$\n",
        "\n",
        "\n",
        "El $lim_{z→2} g(z).$ existe y su valor lo hayamos evaluando el limite en la funcion.\n",
        "\n",
        "$lim_{z→2} g(2).$ $=$ $5$\n",
        "\n",
        "Ademas anteriormente hemos evaluado los limites laterales dandonos valores aproximados a 5 llevandonos a la conclucion de que el limite de z cuando tiende a 2 es 5"
      ],
      "metadata": {
        "id": "u0v15ZsNqJmH"
      }
    },
    {
      "cell_type": "code",
      "source": [
        "import numpy as np\n",
        "def f(x):\n",
        "  return np.where(x < 2, 3*x - 1, 7 - x)\n",
        "\n",
        "print(f(2))"
      ],
      "metadata": {
        "colab": {
          "base_uri": "https://localhost:8080/"
        },
        "id": "8xONsYf3sgVo",
        "outputId": "3e5d8723-d53b-43d7-f45d-f9ee4dd616b8"
      },
      "execution_count": null,
      "outputs": [
        {
          "output_type": "stream",
          "name": "stdout",
          "text": [
            "5\n"
          ]
        }
      ]
    },
    {
      "cell_type": "markdown",
      "source": [
        "###<font color = \"Blue\">(6) Suppose\n",
        "\n",
        "$h(t) = \\left\\{ \\begin{array} \\\\ 2t+1 & si &  t \\leq 1 \\\\ \\\\ 3t-1 & si & t > 1 \\end{array} \\right.$\n",
        "\n",
        "(a) Sketch the graph of h."
      ],
      "metadata": {
        "id": "Rxp6xwAssnV_"
      }
    },
    {
      "cell_type": "code",
      "source": [
        "import numpy as np\n",
        "import matplotlib.pyplot as plt\n",
        "\n",
        "def h(t):\n",
        "    return np.where(t <= 1, 2*t + 1, 3*t - 1)\n",
        "\n",
        "t = np.linspace(-2, 4, 1000)\n",
        "\n",
        "y = h(t)\n",
        "\n",
        "plt.plot(t, y, color=\"blue\", label=\"h(t)\")\n",
        "plt.xlabel(\"t\")\n",
        "plt.ylabel(\"h(t)\")\n",
        "plt.title(\"Gráfica de h(t)\")\n",
        "plt.grid(linestyle=\"--\")\n",
        "plt.axvline(x=1, color='red', linestyle=':', label=\"t=1 (Punto de cambio)\")\n",
        "plt.legend()\n",
        "\n",
        "plt.show()\n",
        "\n"
      ],
      "metadata": {
        "colab": {
          "base_uri": "https://localhost:8080/",
          "height": 472
        },
        "id": "ssqIza6lyZHq",
        "outputId": "856c06c7-76f3-4a0f-a69d-f4818735bddc"
      },
      "execution_count": null,
      "outputs": [
        {
          "output_type": "display_data",
          "data": {
            "text/plain": [
              "<Figure size 640x480 with 1 Axes>"
            ],
            "image/png": "[encoded data removed]"
          },
          "metadata": {}
        }
      ]
    },
    {
      "cell_type": "markdown",
      "source": [
        "$(b)$ $Find$ $lim_{t→1^−} h(t).$\n",
        "\n",
        "\n",
        "$Respuesta$\n",
        "\n",
        "$lim_{t→1^−} h(0.999).$ $=$ $2,998$\n",
        "\n",
        "con valores cercanos a $t=1$ desde la izquierda obtenemos valores muy cercanos a $3$ lo que nos lleva a concluir que:\n",
        "\n",
        "$lim_{t→1^−} h(t).$ $≈$ $3$\n",
        "\n",
        "o directamente $lim_{t→1^−} h(1).$ $=$ $3$"
      ],
      "metadata": {
        "id": "j1NihfQ8zMNc"
      }
    },
    {
      "cell_type": "code",
      "source": [
        "import numpy as np\n",
        "\n",
        "def h(t):\n",
        "  return np.where(t <= 1, 2*t + 1, 3*t - 1)\n",
        "\n",
        "print(h(0.999))"
      ],
      "metadata": {
        "colab": {
          "base_uri": "https://localhost:8080/"
        },
        "id": "UL3tdyCaBx1i",
        "outputId": "650de1f2-5e13-42bc-edb2-f497973e3a6d"
      },
      "execution_count": 1,
      "outputs": [
        {
          "output_type": "stream",
          "name": "stdout",
          "text": [
            "2.998\n"
          ]
        }
      ]
    },
    {
      "cell_type": "markdown",
      "source": [
        "$(c)$ $Find$ $lim_{t→1^+} h(t).$\n",
        "\n",
        "\n",
        "$Respuesta$\n",
        "\n",
        "$lim_{t→1^−} h(1.001).$ $=$ $2,003$\n",
        "\n",
        "con valores cercanos a $t=1$ desde la derecha obtenemos valores muy cercanos a $2$ lo que nos lleva a concluir que:\n",
        "\n",
        "$lim_{t→1^−} h(t).$ $≈$ $2$"
      ],
      "metadata": {
        "id": "qGCDOqesCDwL"
      }
    },
    {
      "cell_type": "code",
      "source": [
        "import numpy as np\n",
        "\n",
        "def h(t):\n",
        "  return np.where(t <= 1, 2*t + 1, 3*t - 1)\n",
        "\n",
        "print(h(1.009))"
      ],
      "metadata": {
        "colab": {
          "base_uri": "https://localhost:8080/"
        },
        "id": "CKSjRWbHDIof",
        "outputId": "a7e75184-5c1e-4693-9a74-07eb320ea08b"
      },
      "execution_count": 2,
      "outputs": [
        {
          "output_type": "stream",
          "name": "stdout",
          "text": [
            "2.0269999999999997\n"
          ]
        }
      ]
    },
    {
      "cell_type": "markdown",
      "source": [
        "$(d)$ $Does$ $lim_{t→1} h(t).$ $exist?$ $If$ $so,$ $what$ $is$ $its$ $value?$\n",
        "\n",
        "El $lim_{t→1} h(t).$ no existe por dos razones:\n",
        "\n",
        "\n",
        "*   Primero al graficar observamos que en ese valor hay un salto (discontinuidad)\n",
        "\n",
        "*   Segundo al evaluar el limite con valores cercanos a 1 (acercandonos desde la derecha e izquierda) obtenemos valores diferente. En otras palabras aplicamos la prueba de los laterales y no la paso.\n",
        "\n",
        "\n"
      ],
      "metadata": {
        "id": "lSGSZrvmDPR0"
      }
    },
    {
      "cell_type": "markdown",
      "source": [
        "###<font color = \"Blue\">(7) Evaluate the following limits."
      ],
      "metadata": {
        "id": "goxvw9kID-U8"
      }
    },
    {
      "cell_type": "markdown",
      "source": [
        "$(a)$ $Lim_{x\\to∞}$ $(3x^2+4)$\n",
        "\n",
        "$Respuesta$\n",
        "\n",
        "$Lim_{x\\to∞}$ $(3(∞)^2+4)$ $=$ $∞$\n",
        "\n"
      ],
      "metadata": {
        "id": "WpeutpXlEnus"
      }
    },
    {
      "cell_type": "code",
      "source": [
        "import numpy as np\n",
        "\n",
        "def f(X):\n",
        "  return (3*X**2+4)\n",
        "\n",
        "print(f(np.inf))"
      ],
      "metadata": {
        "colab": {
          "base_uri": "https://localhost:8080/"
        },
        "id": "jbpIS1xAE990",
        "outputId": "9f26a492-d656-4cef-e1af-339a0e6c63cd"
      },
      "execution_count": 3,
      "outputs": [
        {
          "output_type": "stream",
          "name": "stdout",
          "text": [
            "inf\n"
          ]
        }
      ]
    },
    {
      "cell_type": "markdown",
      "source": [
        "$(b)$ $Lim_{x\\to∞}$ $\\frac{x^3+3x-1}{2x^3-x^2+21}$\n",
        "\n",
        "$Respuesta$\n",
        "\n",
        "dividimos las potencias principales $\\frac{x^3}{2x^3}$ dando como resultado que\n",
        "\n",
        "$Lim_{x\\to∞}$ $\\frac{x^3+3x-1}{2x^3-x^2+21}$ $=$ $\\frac{1}{2}$\n",
        "\n",
        "esto quiere decir que cuando la funcion toma valores muy grandes va a tender a $\\frac{1}{2}$"
      ],
      "metadata": {
        "id": "V8PI4A-fFDl7"
      }
    },
    {
      "cell_type": "code",
      "source": [
        "import numpy as np\n",
        "\n",
        "def f(X):\n",
        "    return (X**3 + 3*X - 1) / (2*X**3 - X**2 + 21)\n",
        "\n",
        "valores_grandes = [1e6, 1e9, 1e12]\n",
        "\n",
        "for x in valores_grandes:\n",
        "    print(f\"f({x}) = {f(x)}\")\n"
      ],
      "metadata": {
        "colab": {
          "base_uri": "https://localhost:8080/"
        },
        "id": "d_PtlZwiGNbf",
        "outputId": "375f6286-deaf-41a6-9f4a-22ead2832fda"
      },
      "execution_count": 5,
      "outputs": [
        {
          "output_type": "stream",
          "name": "stdout",
          "text": [
            "f(1000000.0) = 0.5000002500016251\n",
            "f(1000000000.0) = 0.50000000025\n",
            "f(1000000000000.0) = 0.50000000000025\n"
          ]
        }
      ]
    },
    {
      "cell_type": "markdown",
      "source": [
        "$(c)$ $Lim_{u\\to∞}$ $\\frac{u^4+3u-6}{3u^2+1}$\n",
        "\n",
        "$Respuesta$\n",
        "\n",
        "Dividimos todo por la mayor potencia del denominador\n",
        "\n",
        "$ \\lim_{u \\to \\infty} \\frac{\\frac{u^4}{u^2} + \\frac{3u}{u^2} - \\frac{6}{u^2}}{\\frac{3u^2}{u^2} + \\frac{1}{u^2}}$\n",
        "\n",
        "$\\lim_{u \\to \\infty} \\frac{u^2 + \\frac{3}{u} - \\frac{6}{u^2}}{3 + \\frac{1}{u^2}}$\n",
        "\n",
        "$\\frac{u^2 + 0 - 0}{3 + 0} = \\frac{u^2}{3}$\n",
        "\n",
        "dando como resultado que:\n",
        "\n",
        "$\\lim_{u \\to \\infty} \\frac{u^4 + 3u - 6}{3u^2 + 1} = \\infty$\n",
        "\n"
      ],
      "metadata": {
        "id": "LRPqCqdNGf1O"
      }
    },
    {
      "cell_type": "code",
      "source": [
        "import numpy as np\n",
        "\n",
        "def f(u):\n",
        "    return (u**2) / (3)\n",
        "\n",
        "\n",
        "result = f(np.inf)\n",
        "print(result)\n"
      ],
      "metadata": {
        "colab": {
          "base_uri": "https://localhost:8080/"
        },
        "id": "QQ4RvvhmJLbO",
        "outputId": "99a7b44a-d026-49cd-9ec1-9a5bcb6089ab"
      },
      "execution_count": 9,
      "outputs": [
        {
          "output_type": "stream",
          "name": "stdout",
          "text": [
            "inf\n"
          ]
        }
      ]
    },
    {
      "cell_type": "markdown",
      "source": [
        "$(d)$ $Lim_{z\\to∞}$ $\\frac{4z^2-3z+10}{2z^3+14z+9}$\n",
        "\n",
        "$Respuesta$\n",
        "\n",
        "Dividimos todo por la potencia del denominador\n",
        "\n",
        "$ \\lim_{u \\to \\infty} \\frac{\\frac{4z^2}{z^3} - \\frac{3z}{z^3} + \\frac{10}{z^3}}{\\frac{2z^3}{z^3} + \\frac{14z}{z^3} - \\frac{9}{z^3}}$\n",
        "\n",
        "$ \\lim_{u \\to \\infty} \\frac{\\frac{4}{z} - \\frac{3}{z^2} + \\frac{10}{z^3}}{2 + \\frac{14}{z^2} - \\frac{9}{z^3}}$\n",
        "\n",
        "$\\frac{0}{2} = 0$\n",
        "\n",
        "dando como resultado que:\n",
        "\n",
        " $Lim_{z\\to∞}$ $\\frac{4z^2-3z+10}{2z^3+14z+9}$ $=$ $0$"
      ],
      "metadata": {
        "id": "MMqI6JvZJjZd"
      }
    },
    {
      "cell_type": "code",
      "source": [
        "import numpy as np\n",
        "\n",
        "def f(z):\n",
        "    return (0) / (2)\n",
        "\n",
        "print(f(0))"
      ],
      "metadata": {
        "colab": {
          "base_uri": "https://localhost:8080/"
        },
        "id": "3wAM89-tLeKb",
        "outputId": "b84467eb-30da-455c-c18f-f5e40a33ae1e"
      },
      "execution_count": 12,
      "outputs": [
        {
          "output_type": "stream",
          "name": "stdout",
          "text": [
            "0.0\n"
          ]
        }
      ]
    },
    {
      "cell_type": "markdown",
      "source": [
        "$(e)$ $Lim_{x\\to-∞}$ $\\frac{x^5-6x+13}{x^2+18x-25}$\n",
        "\n",
        "$Respuesta$\n",
        "\n",
        "Dividimos todo por la potencia del denominador\n",
        "\n",
        "$\\frac{\\frac{x^5}{x^2} - \\frac{6x}{x^2} + \\frac{13}{x^2}}{\\frac{x^2}{x^2} + \\frac{18x}{x^2} - \\frac{25}{x^2}}$\n",
        "\n",
        "$ \\lim_{u \\to -\\infty} \\frac{x^3 - \\frac{6}{x} + \\frac{13}{x^2}}{ 1 + \\frac{18}{x} - \\frac{25}{x^2}}$\n",
        "\n",
        "$\\frac{-∞}{1} = -∞$\n",
        "\n",
        "dando como resultado que:\n",
        "\n",
        "$Lim_{x\\to-∞}$ $\\frac{x^5-6x+13}{x^2+18x-25}= -∞$\n"
      ],
      "metadata": {
        "id": "M1VP3r9RLtCe"
      }
    },
    {
      "cell_type": "code",
      "source": [
        "import numpy as np\n",
        "\n",
        "def f(x):\n",
        "    return (-np.inf) / (1)\n",
        "\n",
        "print(f(-np.inf))"
      ],
      "metadata": {
        "colab": {
          "base_uri": "https://localhost:8080/"
        },
        "id": "x4gb8szsNojq",
        "outputId": "6b75a0d1-c9c1-44b7-d424-ea9c8ae80829"
      },
      "execution_count": 13,
      "outputs": [
        {
          "output_type": "stream",
          "name": "stdout",
          "text": [
            "-inf\n"
          ]
        }
      ]
    },
    {
      "cell_type": "markdown",
      "source": [
        "$(f)$ $Lim_{x\\to∞}$ $\\frac{2\\sqrt{x}+3}{\\sqrt{x}+2}$\n",
        "\n",
        "$Respuesta$\n",
        "\n",
        "Dividimos todo por la potencia del denominador\n",
        "\n",
        "$\\frac{\\frac{2\\sqrt{x}}{\\sqrt{x}} + \\frac{3}{\\sqrt{x}}}{\\frac{\\sqrt{x}}{\\sqrt{x}}+ \\frac{2}{\\sqrt{x}}}$\n",
        "\n",
        "$Lim_{x\\to∞}$ $\\frac{2 + \\frac{3}{\\sqrt{x}}}{ 1+ \\frac{2}{\\sqrt{x}}}$\n",
        "\n",
        "\n",
        "$\\frac{2}{1}$\n",
        "\n",
        "dando como resultado:\n",
        "\n",
        "$Lim_{x\\to∞}$ $\\frac{2\\sqrt{x}+3}{\\sqrt{x}+2}$ $=$ $2$\n",
        "\n"
      ],
      "metadata": {
        "id": "UpAOKkptNsNQ"
      }
    },
    {
      "cell_type": "code",
      "source": [
        "import numpy as np\n",
        "\n",
        "def f(x):\n",
        "    return (2) / (1)\n",
        "\n",
        "print(f(np.inf))"
      ],
      "metadata": {
        "colab": {
          "base_uri": "https://localhost:8080/"
        },
        "id": "pf3VSj-EPkjY",
        "outputId": "d786dee9-8096-477b-d55b-4de46de03930"
      },
      "execution_count": 14,
      "outputs": [
        {
          "output_type": "stream",
          "name": "stdout",
          "text": [
            "2.0\n"
          ]
        }
      ]
    },
    {
      "cell_type": "markdown",
      "source": [
        "$(g) Lim_{u\\to∞}$ $\\sqrt{\\frac{2u+1}{u-2}}$\n",
        "\n",
        "$Respuesta$\n",
        "\n",
        " $\\sqrt{\\frac{\\frac{2u}{u}+ \\frac{1}{u}}{\\frac{u}{u}-\\frac{2}{u}}}$\n",
        "\n",
        " $\\sqrt{\\frac{2 + \\frac{1}{u}}{1 -\\frac{2}{u}}}$\n",
        "\n",
        "\n",
        "$\\sqrt{\\frac{2 + 0}{1 -0}}$\n",
        "\n",
        "\n",
        "$Lim_{u\\to∞}$ $\\sqrt{\\frac{2u+1}{u-2}}$ $=$ $\\sqrt{2}$\n",
        "\n",
        "\n"
      ],
      "metadata": {
        "id": "gBuVZIKpPjlc"
      }
    },
    {
      "cell_type": "code",
      "source": [
        "import numpy as np\n",
        "\n",
        "def f(x):\n",
        "    return np.sqrt((2*x + 1) / (x - 2))\n",
        "\n",
        "print(f(np.inf))\n"
      ],
      "metadata": {
        "colab": {
          "base_uri": "https://localhost:8080/"
        },
        "id": "fPlqaI3ZRIwF",
        "outputId": "56e58991-3ba8-45bc-f245-f378c2f968bb"
      },
      "execution_count": 17,
      "outputs": [
        {
          "output_type": "stream",
          "name": "stdout",
          "text": [
            "nan\n"
          ]
        }
      ]
    },
    {
      "cell_type": "markdown",
      "source": [
        "$(h)$  $Lim_{t\\to∞}$ $\\frac{\\sqrt{t+1}}{t-3}$\n",
        "\n",
        "$Respuesta$\n",
        "\n",
        "\n",
        "$\\frac{\\frac{\\sqrt{t+1}}{t}}{\\frac{t}{t}-\\frac{3}{t}}$\n",
        "\n",
        "\n",
        "$\\frac{\\frac{\\sqrt{t+1}}{t}}{1-\\frac{3}{t}}$\n",
        "\n",
        "$Lim_{t\\to∞}$$\\frac{\\frac{\\sqrt{t+1}}{t}}{1-\\frac{3}{t}}$ $=$ $\\frac{0}{1}$\n",
        "\n",
        "\n",
        "\n",
        "$Lim_{t\\to∞}$ $\\frac{\\sqrt{t+1}}{t-3}$$=$$0$"
      ],
      "metadata": {
        "id": "5_RgE2wxRu8N"
      }
    },
    {
      "cell_type": "code",
      "source": [
        "import numpy as np\n",
        "\n",
        "def f(x):\n",
        "  return ((np.sqrt(x+1))/(x-3))\n",
        "\n",
        "f(1e5)"
      ],
      "metadata": {
        "colab": {
          "base_uri": "https://localhost:8080/"
        },
        "id": "ItJg0r-hSzjA",
        "outputId": "de35fa36-59e7-4459-84f5-0343c317a9e2"
      },
      "execution_count": 18,
      "outputs": [
        {
          "output_type": "execute_result",
          "data": {
            "text/plain": [
              "0.003162388343167447"
            ]
          },
          "metadata": {},
          "execution_count": 18
        }
      ]
    },
    {
      "cell_type": "markdown",
      "source": [
        "$(i)$  $Lim_{x\\to∞}$ $\\frac{3x+1}{\\sqrt{4x^2+5}}$\n",
        "\n",
        "$Respuesta$\n",
        "\n",
        "\n",
        "$\\frac{\\frac{3x}{x}+ \\frac{1}{x}}{\\sqrt{\\frac{4x^2}{x^2}+\\frac{5}{x^2}}}$\n",
        "\n",
        "$\\frac{ 3+ \\frac{1}{x}}{\\sqrt{4 +\\frac{5}{x^2}}}$\n",
        "\n",
        "$\\frac{3}{2}$\n",
        "\n",
        "\n",
        "\n",
        "$Lim_{x\\to∞}$ $\\frac{3x+1}{\\sqrt{4x^2+5}}$ $=$ $\\frac{3}{2}$\n"
      ],
      "metadata": {
        "id": "5ZDWZhh_TGkn"
      }
    },
    {
      "cell_type": "code",
      "source": [
        "import numpy as np\n",
        "\n",
        "def f(x):\n",
        "  return ((3*x+1)/(np.sqrt(4*x**2+5)))\n",
        "\n",
        "print(f(1e9))"
      ],
      "metadata": {
        "colab": {
          "base_uri": "https://localhost:8080/"
        },
        "id": "j2Y1SfmxVRWO",
        "outputId": "30e1b2e0-5ce3-4796-dd18-e555ac48d0b2"
      },
      "execution_count": 19,
      "outputs": [
        {
          "output_type": "stream",
          "name": "stdout",
          "text": [
            "1.5000000005\n"
          ]
        }
      ]
    },
    {
      "cell_type": "markdown",
      "source": [
        "$(j)$  $Lim_{x\\to-∞}$ $\\frac{3x+1}{\\sqrt{4x^2+5}}$\n",
        "\n",
        "$Respuesta$\n",
        "\n",
        "\n",
        "$\\frac{\\frac{3x}{-x}+ \\frac{1}{-x}}{\\sqrt{\\frac{4x^2}{x^2}+\\frac{5}{x^2}}}$\n",
        "\n",
        "$\\frac{ -3 + \\frac{1}{x}}{\\sqrt{4 +\\frac{5}{x^2}}}$\n",
        "\n",
        "$\\frac{-3}{2}$\n",
        "\n",
        "\n",
        "\n",
        "$Lim_{x\\to-∞}$ $\\frac{3x+1}{\\sqrt{4x^2+5}}$ $=$ $-\\frac{3}{2}$"
      ],
      "metadata": {
        "id": "qXlV9K34Vsv-"
      }
    },
    {
      "cell_type": "code",
      "source": [
        "import numpy as np\n",
        "\n",
        "def f(x):\n",
        "  return ((3*x+1)/(np.sqrt(4*x**2+5)))\n",
        "\n",
        "print(f(-1e9))"
      ],
      "metadata": {
        "colab": {
          "base_uri": "https://localhost:8080/"
        },
        "id": "eVcTaqj0XVb6",
        "outputId": "29c55436-dd87-42c7-ecd0-be9d72f5cc30"
      },
      "execution_count": 20,
      "outputs": [
        {
          "output_type": "stream",
          "name": "stdout",
          "text": [
            "-1.4999999995\n"
          ]
        }
      ]
    },
    {
      "cell_type": "markdown",
      "source": [
        "###<font color = \"Blue\">(8) Let\n",
        "\n",
        " $f(x)=\\frac{2x}{x-4}$\n",
        "\n",
        "Find $Lim_{x\\to4^-}f(x)$\n",
        "\n",
        "$Respuesta$\n",
        "\n",
        "$\\frac{2(3.9)}{(3.9)-4}$ $=-78$\n",
        "\n",
        "a medida que le damos valores mas cercanos a 4 el limite tiende a -∞\n",
        "\n",
        "Find $Lim_{x\\to4^+}f(x)$\n",
        "\n",
        "$Respuesta$\n",
        "\n",
        "$\\frac{2(4.1)}{(4.1)-4}$ $=82$\n",
        "\n",
        "a medida que le damos valores mas cercanos a 4 el limite tiende a ∞\n",
        "\n",
        "\n",
        "Find $Lim_{x\\to-∞}f(x)$\n",
        "\n",
        "$Respuesta$\n",
        "\n",
        "Divido con el denominador de mayor potencia\n",
        "\n",
        "$\\frac{\\frac{2x}{x}}{\\frac{x}{x}-\\frac{4}{x}}$\n",
        "\n",
        "queda\n",
        "\n",
        "$\\frac{2}{1-\\frac{4}{x}}$\n",
        "\n",
        "saco el 2\n",
        "\n",
        "$2⋅ Lim_{x\\to-∞}\\frac{1}{1-\\frac{4}{x}}$\n",
        "\n",
        "aplico el limite y queda\n",
        "\n",
        "$2·\\frac{1}{1}$\n",
        "\n",
        "dando como resultado que el $Lim_{x\\to-∞}f(x) = 2$\n",
        "\n",
        "Find $Lim_{x\\to∞}f(x)$\n",
        "\n",
        "$Respuesta$\n",
        "\n",
        "Divido con el denominador de mayor potencia\n",
        "\n",
        "$\\frac{\\frac{2x}{x}}{\\frac{x}{x}-\\frac{4}{x}}$\n",
        "\n",
        "queda\n",
        "\n",
        "$\\frac{2}{1-\\frac{4}{x}}$\n",
        "\n",
        "saco el 2\n",
        "\n",
        "$2⋅ Lim_{x\\to∞}\\frac{1}{1-\\frac{4}{x}}$\n",
        "\n",
        "aplico el limite y queda\n",
        "\n",
        "$2·\\frac{1}{1}$\n",
        "\n",
        "dando como resultado que el $Lim_{x\\to-∞}f(x) = 2$\n",
        "\n",
        "\n",
        "\n",
        "\n",
        "\n",
        "\n",
        "\n",
        "\n"
      ],
      "metadata": {
        "id": "RSYgKzYecYnG"
      }
    },
    {
      "cell_type": "code",
      "source": [
        "import numpy as np\n",
        "import matplotlib.pyplot as plt\n",
        "\n",
        "def f(x):\n",
        "    return 2 * x / (x - 4)\n",
        "\n",
        "x = np.linspace(-10, 10, 400)\n",
        "x = x[x != 4]\n",
        "\n",
        "plt.plot(x, f(x), label=r'$f(x) = \\frac{2x}{x - 4}$', color='b')\n",
        "\n",
        "plt.axvline(x=4, color='r', linestyle='--', label='Asintota en x = 4')\n",
        "\n",
        "\n",
        "plt.xlabel('x')\n",
        "plt.ylabel('f(x)')\n",
        "plt.title('Grafica de $f(x) = \\\\frac{2x}{x - 4}$')\n",
        "plt.legend()\n",
        "\n",
        "\n",
        "plt.ylim(-100, 100)\n",
        "\n",
        "\n",
        "plt.grid(True)\n",
        "plt.show()\n"
      ],
      "metadata": {
        "colab": {
          "base_uri": "https://localhost:8080/",
          "height": 477
        },
        "id": "-VvnRt93f3Sl",
        "outputId": "4fb50ec4-8ccd-498c-e274-7b9de7e2e6d0"
      },
      "execution_count": 24,
      "outputs": [
        {
          "output_type": "display_data",
          "data": {
            "text/plain": [
              "<Figure size 640x480 with 1 Axes>"
            ],
            "image/png": "[encoded data removed]"
          },
          "metadata": {}
        }
      ]
    }
  ]
}