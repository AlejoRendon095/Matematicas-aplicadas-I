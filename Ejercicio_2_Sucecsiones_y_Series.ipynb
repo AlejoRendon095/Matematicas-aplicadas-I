{
  "nbformat": 4,
  "nbformat_minor": 0,
  "metadata": {
    "colab": {
      "provenance": []
    },
    "kernelspec": {
      "name": "python3",
      "display_name": "Python 3"
    },
    "language_info": {
      "name": "python"
    }
  },
  "cells": [
    {
      "cell_type": "markdown",
      "source": [
        "#<font color = \"red\">$Ejercicio$ $Sucesiones$ $y$ $Series$\n",
        "##Alejandro Rendón\n",
        "##Samuel Granda\n",
        "##Juan Camilo Criollo\n"
      ],
      "metadata": {
        "id": "1XppdhpkZh0a"
      }
    },
    {
      "cell_type": "markdown",
      "source": [
        "<img src=https://i.gifer.com/TrZW.gif width=\"300\" height=\"150\" align=\"center\">"
      ],
      "metadata": {
        "id": "Omb-YCM1Zp7Q"
      }
    },
    {
      "cell_type": "markdown",
      "source": [
        "#<font color = \"red\">$Problema$ $1$"
      ],
      "metadata": {
        "id": "9QIEl3W5aQ74"
      }
    },
    {
      "cell_type": "markdown",
      "source": [
        "Escriba los primeros cuatro términos de cada serie.\n",
        "\n",
        "$\\sum_{k=1}^{∞}\\frac{2k +1}{k}$\n",
        "\n",
        "#Respuesta\n",
        "\n",
        "$\\frac{2(1) +1}{1}$ $= 3$\n",
        "\n",
        "$\\frac{2(2) +1}{2}$ $= \\frac{5}{2}$\n",
        "\n",
        "$\\frac{2(3) +1}{3}$ $= \\frac{7}{3}$\n",
        "\n",
        "$\\frac{2(4) +1}{4}$ $= \\frac{9}{4}$\n",
        "\n",
        "\n",
        "\n",
        "\n",
        "\n"
      ],
      "metadata": {
        "id": "zMVJvfpHadWk"
      }
    },
    {
      "source": [
        "import numpy as np\n",
        "\n",
        "i=1\n",
        "while i<5:\n",
        "  print(\"Termino: \"+str(i))\n",
        "  print((2*(i)+1)/(i))\n",
        "  i=i+1"
      ],
      "cell_type": "code",
      "metadata": {
        "colab": {
          "base_uri": "https://localhost:8080/"
        },
        "id": "eDLp8Ae2fl8S",
        "outputId": "51effd74-3b92-4dab-9508-a21748edb567"
      },
      "execution_count": null,
      "outputs": [
        {
          "output_type": "stream",
          "name": "stdout",
          "text": [
            "Termino: 1\n",
            "3.0\n",
            "Termino: 2\n",
            "2.5\n",
            "Termino: 3\n",
            "2.3333333333333335\n",
            "Termino: 4\n",
            "2.25\n"
          ]
        }
      ]
    },
    {
      "cell_type": "markdown",
      "source": [
        "________________________________________________________________________________\n"
      ],
      "metadata": {
        "id": "3Qteh-__tEAq"
      }
    },
    {
      "cell_type": "markdown",
      "source": [
        "$\\sum_{k=1}^{∞}\\frac{(-1)^{k+1}}{k3^k}$\n",
        "\n",
        "#Respuesta\n",
        "\n",
        "$\\frac{(-1)^{1+1}}{(1)3^1}$ $=$ $\\frac{1}{3}$\n",
        "\n",
        "\n",
        "$\\frac{(-1)^{2+1}}{(2)3^2}=$ $\\frac{-1}{18}$\n",
        "\n",
        "$\\frac{(-1)^{3+1}}{(3)3^3}$ $=$ $\\frac{1}{81}$\n",
        "\n",
        "$\\frac{(-1)^{4+1}}{(4)3^4}$ $=$ $\\frac{-1}{324}$\n",
        "\n",
        "\n",
        "\n"
      ],
      "metadata": {
        "id": "ia03YologKtg"
      }
    },
    {
      "cell_type": "code",
      "source": [
        "import numpy as np\n",
        "\n",
        "i=1\n",
        "while i<5:\n",
        "  print(\"Termino: \"+str(i))\n",
        "  print(((-1)**(i+1))/(i*3**i))\n",
        "  i=i+1\n"
      ],
      "metadata": {
        "colab": {
          "base_uri": "https://localhost:8080/"
        },
        "id": "NVmq0Gxeswuk",
        "outputId": "dc6df2eb-b4d3-4031-f07f-a2fcbe8f017e"
      },
      "execution_count": null,
      "outputs": [
        {
          "output_type": "stream",
          "name": "stdout",
          "text": [
            "Termino: 1\n",
            "0.3333333333333333\n",
            "Termino: 2\n",
            "-0.05555555555555555\n",
            "Termino: 3\n",
            "0.012345679012345678\n",
            "Termino: 4\n",
            "-0.0030864197530864196\n"
          ]
        }
      ]
    },
    {
      "cell_type": "markdown",
      "source": [
        "________________________________________________________________________________"
      ],
      "metadata": {
        "id": "hu2Nw4fPtG__"
      }
    },
    {
      "cell_type": "markdown",
      "source": [
        "$\\sum_{n=0}^{∞}\\frac{n + 1}{n!}$\n",
        "\n",
        "#Respuesta\n",
        "$\\frac{0 + 1}{0!}$ $=$ $1$\n",
        "\n",
        "$\\frac{1 + 1}{1!}$ $=$ $2$\n",
        "\n",
        "$\\frac{2 + 1}{2!}$ $=$ $\\frac{3}{2}$\n",
        "\n",
        "$\\frac{3 + 1}{3!}$ $=$ $\\frac{4}{6}$ $=$ $\\frac{2}{3}$\n",
        "\n",
        "\n"
      ],
      "metadata": {
        "id": "paMcUZeqtJsG"
      }
    },
    {
      "cell_type": "code",
      "source": [
        "import math\n",
        "\n",
        "i=0\n",
        "while i<4:\n",
        "  print(\"Termino: \"+str(i))\n",
        "  print((i+1)/(math.factorial(i)))\n",
        "  i=i+1\n"
      ],
      "metadata": {
        "colab": {
          "base_uri": "https://localhost:8080/"
        },
        "id": "QjFMYl8_vEMe",
        "outputId": "aa13da04-d2ef-4a8b-c28d-d63d42b03852"
      },
      "execution_count": null,
      "outputs": [
        {
          "output_type": "stream",
          "name": "stdout",
          "text": [
            "Termino: 0\n",
            "1.0\n",
            "Termino: 1\n",
            "2.0\n",
            "Termino: 2\n",
            "1.5\n",
            "Termino: 3\n",
            "0.6666666666666666\n"
          ]
        }
      ]
    },
    {
      "cell_type": "markdown",
      "source": [
        "____________________________________________________________________________\n"
      ],
      "metadata": {
        "id": "YsMPm0Z2vm4O"
      }
    },
    {
      "cell_type": "markdown",
      "source": [
        "#<font color = \"red\">$Problema$ $2$\n",
        "Encontrar la suma de la serie telescópica dada"
      ],
      "metadata": {
        "id": "j5gooB9Ivpb5"
      }
    },
    {
      "cell_type": "markdown",
      "source": [
        "$\\sum_{k=1}^{∞}\\frac{1}{k(k+1)}$\n",
        "\n",
        "#Respuesta\n",
        "\n",
        "$a_n=\\frac{1}{k}-\\frac{1}{k+1}$\n",
        "\n",
        "$s_n=[\\frac{1}{1}-\\frac{1}{2}]+[\\frac{1}{2}-\\frac{1}{3}]+[\\frac{1}{3}-\\frac{1}{4}]$\n",
        "\n",
        "$1-\\lim_{k\\to\\infty}\\frac{1}{k+1}$\n",
        "\n",
        "$1-\\lim_{k\\to\\infty}\\frac{1}{∞+1}= 1-0 = 1$\n",
        "\n",
        "###Asi que\n",
        "\n",
        "$\\sum_{k=1}^{∞}\\frac{1}{k(k+1)}=1$"
      ],
      "metadata": {
        "id": "8ArJ5SOkvzd2"
      }
    },
    {
      "cell_type": "markdown",
      "source": [
        "____________________________________________________________________________\n"
      ],
      "metadata": {
        "id": "vBfYiHtD21pn"
      }
    },
    {
      "cell_type": "markdown",
      "source": [
        "#<font color = \"red\">$Problema$ $3$\n",
        "Determine si la serie geometrica dada converge o diverge. Si es convergente,encuentre la suma de la serie"
      ],
      "metadata": {
        "id": "HRuTUDrE25uY"
      }
    },
    {
      "cell_type": "markdown",
      "source": [
        "$\\sum_{k=1}^{∞}3(\\frac{1}{5})^{k-1}$\n",
        "\n",
        "#Respuesta\n",
        "\n",
        "como $|r|< 1$ entonces la serie geometrica converge\n",
        "\n",
        "La suma de la serie es:\n",
        "\n",
        "$S=\\frac{3}{1-\\frac{1}{5}}=\\frac{3}{\\frac{4}{5}}=\\frac{15}{4}$\n",
        "\n",
        "Procedimientos\n",
        "\n",
        "$1-\\frac{1}{5}=\\frac{4}{5}$\n",
        "\n",
        "$\\frac{3}{1}\\cdot\\frac{5}{4}=\\frac{15}{4}$\n"
      ],
      "metadata": {
        "id": "qxkJ-Kx_3GVI"
      }
    },
    {
      "cell_type": "markdown",
      "source": [
        "________________________________________________________________________________\n"
      ],
      "metadata": {
        "id": "p1nwVqd_3Y_v"
      }
    },
    {
      "cell_type": "markdown",
      "source": [
        "$\\sum_{k=1}^{∞}\\frac{(-1)^{k-1}}{2^{k-1}}$\n",
        "\n",
        "#Respuesta\n",
        "\n",
        "Hallamos la razon, y para ello obtenemos varios puntos de la sumatoria.\n",
        "\n",
        "$\\frac{(-1)^{1-1}}{2^{1-1}}=1$\n",
        "\n",
        "$\\frac{(-1)^{2-1}}{2^{2-1}}=-\\frac{1}{2}$\n",
        "\n",
        "$\\frac{(-1)^{3-1}}{2^{3-1}}=\\frac{1}{4}$\n",
        "\n",
        "$\\frac{(-1)^{4-1}}{2^{4-1}}=-\\frac{1}{8}$\n",
        "\n",
        "Dividimos los puntos\n",
        "\n",
        "$-\\frac{1}{8}\\cdot\\frac{4}{1}=-\\frac{4}{8}=-\\frac{2}{4}=-\\frac{1}{2}$\n",
        "\n",
        "$\\frac{1}{4}\\cdot(-\\frac{2}{1})=-\\frac{2}{4}=-\\frac{1}{2}$\n",
        "\n",
        "La razon es $-\\frac{1}{2}$ y como es $ < 1 $ entonces podemos concluir que esta serie geometrica converge\n",
        "\n",
        "La suma es\n",
        "\n",
        "$S_k=\\frac{1}{1-(-\\frac{1}{2})}=\\frac{2}{3}$\n",
        "\n",
        "\n",
        "Procesos\n",
        "\n",
        "$1-(-\\frac{1}{2})= 1+\\frac{1}{2}= \\frac{3}{2}$\n",
        "\n",
        "$\\frac{1}{\\frac{3}{2}}=\\frac{2}{3}$"
      ],
      "metadata": {
        "id": "mz67f4W-9COG"
      }
    },
    {
      "cell_type": "markdown",
      "source": [
        "_______________________________________________________________________________\n"
      ],
      "metadata": {
        "id": "gHFsBkJ2Imzs"
      }
    },
    {
      "cell_type": "markdown",
      "source": [
        "$\\sum_{r=1}^{∞}5^r4^{-r}$\n",
        "\n",
        "\n",
        "#Respuesta\n",
        "\n",
        "$\\sum_{r=1}^{∞}5^r4^{-r}= \\sum_{r=1}^{∞}(\\frac{5}{4})^r$\n",
        "\n",
        "Tomamos varios puntos de la serie:\n",
        "\n",
        "$(\\frac{5}{4})^1=\\frac{5}{4}$\n",
        "\n",
        "$(\\frac{5}{4})^2=\\frac{25}{16}$\n",
        "\n",
        "$(\\frac{5}{4})^3=\\frac{125}{64}$\n",
        "\n",
        "Hallamos la razon:\n",
        "\n",
        "$\\frac{125}{64}⋅\\frac{16}{25}=\\frac{2000}{1600}=\\frac{20}{16}=\\frac{10}{8}=\\frac{5}{4}$\n",
        "\n",
        "\n",
        "$\\frac{25}{16}⋅\\frac{4}{5}=\\frac{100}{80}=\\frac{10}{8}=\\frac{5}{4}$\n",
        "\n",
        "$\\frac{5}{4}=1,25$\n",
        "\n",
        "como $|r| \\geq 1$ entonces la serie diverge.\n"
      ],
      "metadata": {
        "id": "PISHz0pLYSDO"
      }
    },
    {
      "cell_type": "markdown",
      "source": [
        "________________________________________________________________________________\n"
      ],
      "metadata": {
        "id": "DS1UAZWAek5V"
      }
    },
    {
      "cell_type": "markdown",
      "source": [
        "$\\sum_{n=1}^{∞}\\frac{(1.1)^{n}}{1000}$\n",
        "\n",
        "#Respuesta\n"
      ],
      "metadata": {
        "id": "4aHham8qeoBt"
      }
    },
    {
      "cell_type": "code",
      "source": [
        "r = 1.1\n",
        "a = 1 / 1000\n",
        "\n",
        "\n",
        "if abs(r) < 1:\n",
        "    suma = a / (1 - r)\n",
        "    print(f\"La serie converge. La suma es: {suma}\")\n",
        "else:\n",
        "    print(\"La serie diverge porque la razón común es mayor o igual a 1.\")"
      ],
      "metadata": {
        "colab": {
          "base_uri": "https://localhost:8080/"
        },
        "id": "gY1NnSp743cO",
        "outputId": "95256fa8-4ff7-4a84-ac19-7e565ab94d8c"
      },
      "execution_count": 1,
      "outputs": [
        {
          "output_type": "stream",
          "name": "stdout",
          "text": [
            "La serie diverge porque la razón común es mayor o igual a 1.\n"
          ]
        }
      ]
    },
    {
      "cell_type": "markdown",
      "source": [
        "$\\sum_{k=0}^{∞}\\frac{1}{(\\sqrt{3}-\\sqrt{2})^k}$\n"
      ],
      "metadata": {
        "id": "m3h7UT1O5A_9"
      }
    },
    {
      "cell_type": "code",
      "source": [
        "import math\n",
        "\n",
        "\n",
        "r = 1 / (math.sqrt(3) - math.sqrt(2))\n",
        "\n",
        "if abs(r) < 1:\n",
        "    suma = 1 / (1 - r)\n",
        "    print(f\"La serie converge. La suma es: {suma}\")\n",
        "else:\n",
        "    print(f\"La serie diverge porque la razón común r = {r} es mayor o igual a 1.\")"
      ],
      "metadata": {
        "colab": {
          "base_uri": "https://localhost:8080/"
        },
        "id": "6icRVxEv5i4o",
        "outputId": "4e1cb00e-3d73-4499-f5c4-a15e6e5cae0e"
      },
      "execution_count": 2,
      "outputs": [
        {
          "output_type": "stream",
          "name": "stdout",
          "text": [
            "La serie diverge porque la razón común r = 3.1462643699419743 es mayor o igual a 1.\n"
          ]
        }
      ]
    },
    {
      "cell_type": "markdown",
      "source": [
        "#<font color = \"red\">$Problema$ $4$\n",
        "Escriba cada número decimal que se repite como un cociente de enteros\n",
        "\n",
        "#$0.222...$\n",
        "\n",
        "#Respuesta"
      ],
      "metadata": {
        "id": "I0Yd2ddv5uAQ"
      }
    },
    {
      "cell_type": "code",
      "source": [
        "def decimal_recurrente_a_fraccion(decimal):\n",
        "\n",
        "    decimal_str = str(decimal)\n",
        "    num_digits = len(decimal_str) - 2\n",
        "    numerador = int(decimal_str[2:]) - int(decimal_str[2]) // 10\n",
        "    denominador = (10**num_digits) - 1\n",
        "    from math import gcd\n",
        "    divisor_comun = gcd(numerador, denominador)\n",
        "    numerador //= divisor_comun\n",
        "    denominador //= divisor_comun\n",
        "    return f\"{numerador}/{denominador}\"\n",
        "\n",
        "numero_decimal = 0.222222222222\n",
        "fraccion = decimal_recurrente_a_fraccion(numero_decimal)\n",
        "print(\"La fracción correspondiente al decimal 0.222... es:\", fraccion)"
      ],
      "metadata": {
        "colab": {
          "base_uri": "https://localhost:8080/"
        },
        "id": "86UVliSz520I",
        "outputId": "ec5d250a-0cbf-43b6-ef4c-c1849e507389"
      },
      "execution_count": 3,
      "outputs": [
        {
          "output_type": "stream",
          "name": "stdout",
          "text": [
            "La fracción correspondiente al decimal 0.222... es: 2/9\n"
          ]
        }
      ]
    },
    {
      "cell_type": "markdown",
      "source": [
        "#$0.393939...$\n",
        "\n",
        "#Respuesta"
      ],
      "metadata": {
        "id": "QsSZSKu06I57"
      }
    },
    {
      "cell_type": "code",
      "source": [
        "from math import gcd\n",
        "\n",
        "\n",
        "def decimal_periodico_a_fraccion(decimal_periodico, periodo):\n",
        "    parte_periodica = int(periodo)\n",
        "\n",
        "    numerador = parte_periodica\n",
        "    denominador = (10 ** len(periodo)) - 1\n",
        "\n",
        "    divisor_comun = gcd(numerador, denominador)\n",
        "    numerador_simplificado = numerador // divisor_comun\n",
        "    denominador_simplificado = denominador // divisor_comun\n",
        "\n",
        "    return numerador_simplificado, denominador_simplificado\n",
        "\n",
        "decimal = 0.393939\n",
        "periodo = \"39\"\n",
        "\n",
        "numerador, denominador = decimal_periodico_a_fraccion(decimal, periodo)\n",
        "\n",
        "print(f\"El número decimal {decimal} es equivalente a la fracción: {numerador}/{denominador}\")"
      ],
      "metadata": {
        "colab": {
          "base_uri": "https://localhost:8080/"
        },
        "id": "IjJXI1E56Q0O",
        "outputId": "95629c29-9a89-41d1-8b2a-722cfdd2a012"
      },
      "execution_count": 4,
      "outputs": [
        {
          "output_type": "stream",
          "name": "stdout",
          "text": [
            "El número decimal 0.393939 es equivalente a la fracción: 13/33\n"
          ]
        }
      ]
    },
    {
      "cell_type": "markdown",
      "source": [
        "#<font color = \"red\">$Problema$ $5$\n",
        "Encuentre la suma de las series dadas.\n",
        "\n",
        "$\\sum_{k=1}^{∞}[(\\frac{1}{3})^{k-1}+(\\frac{1}{4})^{k-1}]$\n",
        "\n",
        "#Respuesta"
      ],
      "metadata": {
        "id": "K49zFe5n6VFt"
      }
    },
    {
      "cell_type": "code",
      "source": [
        "r1 = 1 / 3\n",
        "r2 = 1 / 4\n",
        "\n",
        "suma1 = 1 / (1 - r1)\n",
        "suma2 = 1 / (1 - r2)\n",
        "\n",
        "suma_total = suma1 + suma2\n",
        "\n",
        "print(f\"La suma total de la serie es: {suma_total}\")"
      ],
      "metadata": {
        "colab": {
          "base_uri": "https://localhost:8080/"
        },
        "id": "cnd7avpf6nBH",
        "outputId": "4dc0372a-2194-46a5-b6dc-c45afaecb26c"
      },
      "execution_count": 5,
      "outputs": [
        {
          "output_type": "stream",
          "name": "stdout",
          "text": [
            "La suma total de la serie es: 2.833333333333333\n"
          ]
        }
      ]
    },
    {
      "cell_type": "markdown",
      "source": [
        "#<font color = \"red\">$Problema$ $6$\n",
        "Muestre que la serie dada es divergente.\n",
        "\n",
        "$\\sum_{k=1}^{∞}10$\n",
        "\n",
        "#Respuesta"
      ],
      "metadata": {
        "id": "LOvNXdAf6tdh"
      }
    },
    {
      "cell_type": "code",
      "source": [
        "n = 100\n",
        "\n",
        "term_value = 10\n",
        "\n",
        "partial_sum = 0\n",
        "for k in range(1, n+1):\n",
        "    partial_sum += term_value\n",
        "    print(f\"Término {k}: Suma parcial = {partial_sum}\")\n",
        "\n",
        "print(\"\\nLa serie no tiende a un límite. A medida que se suman más términos, la suma crece indefinidamente, lo que indica que la serie es divergente.\")"
      ],
      "metadata": {
        "colab": {
          "base_uri": "https://localhost:8080/"
        },
        "id": "F0Cenq-f60mJ",
        "outputId": "9d9a8177-8e14-422e-9012-08d5f5ee6a26"
      },
      "execution_count": 6,
      "outputs": [
        {
          "output_type": "stream",
          "name": "stdout",
          "text": [
            "Término 1: Suma parcial = 10\n",
            "Término 2: Suma parcial = 20\n",
            "Término 3: Suma parcial = 30\n",
            "Término 4: Suma parcial = 40\n",
            "Término 5: Suma parcial = 50\n",
            "Término 6: Suma parcial = 60\n",
            "Término 7: Suma parcial = 70\n",
            "Término 8: Suma parcial = 80\n",
            "Término 9: Suma parcial = 90\n",
            "Término 10: Suma parcial = 100\n",
            "Término 11: Suma parcial = 110\n",
            "Término 12: Suma parcial = 120\n",
            "Término 13: Suma parcial = 130\n",
            "Término 14: Suma parcial = 140\n",
            "Término 15: Suma parcial = 150\n",
            "Término 16: Suma parcial = 160\n",
            "Término 17: Suma parcial = 170\n",
            "Término 18: Suma parcial = 180\n",
            "Término 19: Suma parcial = 190\n",
            "Término 20: Suma parcial = 200\n",
            "Término 21: Suma parcial = 210\n",
            "Término 22: Suma parcial = 220\n",
            "Término 23: Suma parcial = 230\n",
            "Término 24: Suma parcial = 240\n",
            "Término 25: Suma parcial = 250\n",
            "Término 26: Suma parcial = 260\n",
            "Término 27: Suma parcial = 270\n",
            "Término 28: Suma parcial = 280\n",
            "Término 29: Suma parcial = 290\n",
            "Término 30: Suma parcial = 300\n",
            "Término 31: Suma parcial = 310\n",
            "Término 32: Suma parcial = 320\n",
            "Término 33: Suma parcial = 330\n",
            "Término 34: Suma parcial = 340\n",
            "Término 35: Suma parcial = 350\n",
            "Término 36: Suma parcial = 360\n",
            "Término 37: Suma parcial = 370\n",
            "Término 38: Suma parcial = 380\n",
            "Término 39: Suma parcial = 390\n",
            "Término 40: Suma parcial = 400\n",
            "Término 41: Suma parcial = 410\n",
            "Término 42: Suma parcial = 420\n",
            "Término 43: Suma parcial = 430\n",
            "Término 44: Suma parcial = 440\n",
            "Término 45: Suma parcial = 450\n",
            "Término 46: Suma parcial = 460\n",
            "Término 47: Suma parcial = 470\n",
            "Término 48: Suma parcial = 480\n",
            "Término 49: Suma parcial = 490\n",
            "Término 50: Suma parcial = 500\n",
            "Término 51: Suma parcial = 510\n",
            "Término 52: Suma parcial = 520\n",
            "Término 53: Suma parcial = 530\n",
            "Término 54: Suma parcial = 540\n",
            "Término 55: Suma parcial = 550\n",
            "Término 56: Suma parcial = 560\n",
            "Término 57: Suma parcial = 570\n",
            "Término 58: Suma parcial = 580\n",
            "Término 59: Suma parcial = 590\n",
            "Término 60: Suma parcial = 600\n",
            "Término 61: Suma parcial = 610\n",
            "Término 62: Suma parcial = 620\n",
            "Término 63: Suma parcial = 630\n",
            "Término 64: Suma parcial = 640\n",
            "Término 65: Suma parcial = 650\n",
            "Término 66: Suma parcial = 660\n",
            "Término 67: Suma parcial = 670\n",
            "Término 68: Suma parcial = 680\n",
            "Término 69: Suma parcial = 690\n",
            "Término 70: Suma parcial = 700\n",
            "Término 71: Suma parcial = 710\n",
            "Término 72: Suma parcial = 720\n",
            "Término 73: Suma parcial = 730\n",
            "Término 74: Suma parcial = 740\n",
            "Término 75: Suma parcial = 750\n",
            "Término 76: Suma parcial = 760\n",
            "Término 77: Suma parcial = 770\n",
            "Término 78: Suma parcial = 780\n",
            "Término 79: Suma parcial = 790\n",
            "Término 80: Suma parcial = 800\n",
            "Término 81: Suma parcial = 810\n",
            "Término 82: Suma parcial = 820\n",
            "Término 83: Suma parcial = 830\n",
            "Término 84: Suma parcial = 840\n",
            "Término 85: Suma parcial = 850\n",
            "Término 86: Suma parcial = 860\n",
            "Término 87: Suma parcial = 870\n",
            "Término 88: Suma parcial = 880\n",
            "Término 89: Suma parcial = 890\n",
            "Término 90: Suma parcial = 900\n",
            "Término 91: Suma parcial = 910\n",
            "Término 92: Suma parcial = 920\n",
            "Término 93: Suma parcial = 930\n",
            "Término 94: Suma parcial = 940\n",
            "Término 95: Suma parcial = 950\n",
            "Término 96: Suma parcial = 960\n",
            "Término 97: Suma parcial = 970\n",
            "Término 98: Suma parcial = 980\n",
            "Término 99: Suma parcial = 990\n",
            "Término 100: Suma parcial = 1000\n",
            "\n",
            "La serie no tiende a un límite. A medida que se suman más términos, la suma crece indefinidamente, lo que indica que la serie es divergente.\n"
          ]
        }
      ]
    },
    {
      "cell_type": "markdown",
      "source": [
        "$\\sum_{k=1}^{∞}(-1)^{k}$\n",
        "\n",
        "#Respuesta\n",
        "\n",
        "La serie es divergente porque\n",
        "\n",
        "La suma de esta serie es:\n",
        "\n",
        "$S_1=-1$\n",
        "\n",
        "$S_2=-1+1=0$\n",
        "\n",
        "$S_3=-1+1-1=-1$\n",
        "\n",
        "$S_4=-1+1-1+1=0$\n",
        "\n",
        "$S_5=-1+1-1+1-1=-1$\n",
        "\n",
        "La razón de que sea divergente es que la suma de la serie, oscila entre -1 y 0.\n"
      ],
      "metadata": {
        "id": "hF2CYG0i7fzP"
      }
    },
    {
      "cell_type": "markdown",
      "source": [
        "$\\sum_{k=1}^{∞}\\frac{1}{6k}$\n",
        "\n",
        "#Respuesta\n"
      ],
      "metadata": {
        "id": "ZZ6AC_Oa8a-f"
      }
    },
    {
      "cell_type": "code",
      "source": [
        "n = 10000\n",
        "\n",
        "suma = sum(1/(6*k) for k in range(1, n+1))\n",
        "\n",
        "print(suma)\n",
        "print(\"A medida que aumentas n, la suma continúa creciendo sin límite, lo que confirma que la serie diverge.\")"
      ],
      "metadata": {
        "colab": {
          "base_uri": "https://localhost:8080/"
        },
        "id": "PG4h0cCi8cFP",
        "outputId": "7d211b35-2761-4478-8579-b7ef597a6016"
      },
      "execution_count": 10,
      "outputs": [
        {
          "output_type": "stream",
          "name": "stdout",
          "text": [
            "1.6312676726740587\n",
            "A medida que aumentas n, la suma continúa creciendo sin límite, lo que confirma que la serie diverge.\n"
          ]
        }
      ]
    },
    {
      "cell_type": "markdown",
      "source": [
        "#<font color = \"red\">$Problema$ $7$\n",
        "Se deja caer una pelota desde una altura inicial de 15 pies\n",
        "sobre una plancha de concreto. Cada vez que la pelota\n",
        "rebota, alcanza una altura de de su altura precedente.\n",
        "Recurra a la serie geométrica para determinar la distancia\n",
        "que la pelota recorre antes de quedar en reposo"
      ],
      "metadata": {
        "id": "XEoKkA4d7JFK"
      }
    },
    {
      "cell_type": "markdown",
      "source": [
        "La fórmula para la suma de una serie geométrica es:\n",
        "\n",
        "$S=\\frac{a}{1-r}$\n",
        "\n",
        "$a$ es el primer término de la serie (7.5 pies).\n",
        "\n",
        "$r$ es la razón (0.5).\n",
        "\n",
        "La suma es:\n",
        "\n",
        "$S=\\frac{7.5}{1-0.5}=7.5*2=15 pies$\n",
        "\n",
        "Se suma la primera caida que es 15 pies y la suma de los rebotes (30 pies, ya que sube y baja en cada rebote):\n",
        "\n",
        "$Distanciatotal = 15+30=45$"
      ],
      "metadata": {
        "id": "P4f5EiH57U31"
      }
    },
    {
      "cell_type": "markdown",
      "source": [
        "________________________________________________________________________________"
      ],
      "metadata": {
        "id": "bR4J8ypx9R7m"
      }
    },
    {
      "cell_type": "markdown",
      "source": [
        "Un paciente toma 15 mg de un fármaco diariamente. Si\n",
        "80% del fármaco acumulado se excreta cada día mediante\n",
        "las funciones corporales, ¿qué cantidad del fármaco se\n",
        "acumulará después de un largo periodo, esto es,n? cuando\n",
        "(Suponga que la medición de la acumulación se\n",
        "hace inmediatamente después de cada dosis. Vea el problema\n",
        "69 en los ejercicios 9.1.)"
      ],
      "metadata": {
        "id": "NmvneIjD9Ud3"
      }
    },
    {
      "cell_type": "markdown",
      "source": [
        "La fórmula para la suma de una serie geométrica es:\n",
        "\n",
        "$S=\\frac{a}{1-r}$\n",
        "\n",
        "$a$ es 15 mg es la cantidad de fármaco que se añade cada día.\n",
        "\n",
        "$r$ es 0.2 es la fracción del fármaco que permanece en el cuerpo cada día.\n",
        "\n",
        "La suma es:\n",
        "\n",
        "$S=\\frac{15}{1-0.2}=\\frac{15}{0.8}=18.75 mg$\n",
        "\n",
        "La cantidad acumulada de fármaco en el cuerpo del paciente se estabilizará en 18.75 mg."
      ],
      "metadata": {
        "id": "IAyW_aoQ9YIm"
      }
    },
    {
      "cell_type": "markdown",
      "source": [
        "________________________________________________________________________________"
      ],
      "metadata": {
        "id": "Rq-Ql3sH9clI"
      }
    },
    {
      "cell_type": "markdown",
      "source": [
        "La paradoja de Zenón El filóso-\n",
        "fo griego Zenón de Elea (c. 490 a.C.) fue discípulo del\n",
        "filósofo presocrático Parménides, que afirmaba que el\n",
        "cambio o el movimiento era una ilusión. De las parado-\n",
        "jas de Zenón que apoyaban esta filosofía, la más famosa\n",
        "es su argumento acerca de que Aquiles, conocido por su\n",
        "habilidad de correr rápido, no podría superar a una tortu-\n",
        "ga en movimiento. La forma usual de la historia es como\n",
        "se narra a continuación:\n",
        "Aquiles empieza desde el punto S, y exactamente en el mismo\n",
        "instante una tortuga empieza desde un punto A adelante de S.\n",
        "Después de cierta cantidad de tiempo, Aquiles alcanza el\n",
        "punto de inicio A de la tortuga, pero durante este tiempo la\n",
        "tortuga ha avanzado a un nuevo punto B. Durante el tiempo\n",
        "que tarda Aquiles en alcanzar B, la tortuga se ha movido hacia\n",
        "delante otra vez hasta un nuevo punto C. Al continuar de esta\n",
        "manera, eternamente, Aquiles nunca alcanzará a la tortuga.\n",
        "Vea la FIGURA 9.3.2. Utilice una serie infinita para resolver\n",
        "esta aparente paradoja. Suponga que cada uno se mueve\n",
        "con una velocidad constante. Ayudaría inventar valores\n",
        "razonables para ubicar en el inicio la cabeza de la tortu-\n",
        "ga y para las dos velocidades."
      ],
      "metadata": {
        "id": "2wb_ANyt9f1F"
      }
    },
    {
      "cell_type": "markdown",
      "source": [
        "#Suposiciones:\n",
        "Velocidad de Aquiles:\n",
        "$v_a=10m/s$\n",
        "\n",
        "\n",
        "Velocidad de la tortuga:\n",
        "$v_t=1m/s$\n",
        "\n",
        "\n",
        "La tortuga comienza 10 metros por delante.\n",
        "\n",
        "\n",
        "Cuando Aquiles recorre los primeros 10 metros, la tortuga avanza:\n",
        "\n",
        "\n",
        "$t_1=\\frac{10}{v_a}=1seg$\n",
        "\n",
        "\n",
        "Distancia de la tortuga: $d\n",
        "T\n",
        "​\n",
        " =v\n",
        "T\n",
        "​\n",
        " ⋅t\n",
        "1\n",
        "​\n",
        " =1m.$\n",
        "Serie infinita:\n",
        "La distancia total que Aquiles recorre es la suma de los tramos:\n",
        "$\n",
        "𝑆\n",
        "=\n",
        "10\n",
        "+\n",
        "1\n",
        "+\n",
        "0.1\n",
        "+\n",
        "0.01\n",
        "+\n",
        "…\n",
        "S=10+1+0.1+0.01+…$\n",
        "\n",
        "\n",
        "Esto es una serie geométrica con\n",
        "$\n",
        "𝑎\n",
        "1\n",
        "=\n",
        "10\n",
        "a\n",
        "1\n",
        "​\n",
        " =10$ y razón\n",
        "$𝑟\n",
        "=\n",
        "1\n",
        "10\n",
        "r=\n",
        "10\n",
        "1\n",
        "​\n",
        " .$ La suma infinita es:\n",
        "\n",
        "$𝑆\n",
        "=\n",
        "𝑎\n",
        "1\n",
        "1\n",
        "−\n",
        "𝑟\n",
        "=\n",
        "10\n",
        "1\n",
        "−\n",
        "1\n",
        "10\n",
        "=\n",
        "10\n",
        "9\n",
        "10\n",
        "=\n",
        "100\n",
        "9\n",
        "≈\n",
        "11.11\n",
        "\n",
        "m\n",
        ".\n",
        "S=\n",
        "1−r\n",
        "a\n",
        "1\n",
        "​\n",
        "\n",
        "​\n",
        " =\n",
        "1−\n",
        "10\n",
        "1\n",
        "​\n",
        "\n",
        "10\n",
        "​\n",
        " =\n",
        "10\n",
        "9\n",
        "​\n",
        "\n",
        "10\n",
        "​\n",
        " =\n",
        "9\n",
        "100\n",
        "​\n",
        " ≈11.11m.$\n"
      ],
      "metadata": {
        "id": "xCjkdHRT9vY-"
      }
    },
    {
      "cell_type": "markdown",
      "source": [
        "Aquiles alcanza a la tortuga en aproximadamente 11.11 metros. Aunque el proceso parece infinito, la suma converge a un valor finito."
      ],
      "metadata": {
        "id": "Ky-HKq2yBrm8"
      }
    }
  ]
}