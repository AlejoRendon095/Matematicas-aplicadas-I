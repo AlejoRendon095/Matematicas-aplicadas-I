{
  "nbformat": 4,
  "nbformat_minor": 0,
  "metadata": {
    "colab": {
      "provenance": [],
      "include_colab_link": true
    },
    "kernelspec": {
      "name": "python3",
      "display_name": "Python 3"
    },
    "language_info": {
      "name": "python"
    }
  },
  "cells": [
    {
      "cell_type": "markdown",
      "metadata": {
        "id": "view-in-github",
        "colab_type": "text"
      },
      "source": [
        "<a href=\"https://colab.research.google.com/github/AlejoRendon095/Matematicas-aplicadas-I/blob/main/Actividad_Calculadora.ipynb\" target=\"_parent\"><img src=\"https://colab.research.google.com/assets/colab-badge.svg\" alt=\"Open In Colab\"/></a>"
      ]
    },
    {
      "cell_type": "markdown",
      "source": [
        "#<font color = \"Blue\">$Actividad$ $De$ $La$ $Calculadora$\n",
        "\n",
        "##Alejandro Rendón\n",
        "##Samuel Granda\n",
        "##Juan Camilo Criollo\n",
        "\n"
      ],
      "metadata": {
        "id": "Jy-qwvbbO3Hm"
      }
    },
    {
      "cell_type": "markdown",
      "source": [
        "<img src=https://cdn.dribbble.com/users/470545/screenshots/3471475/calculater.gif width=\"300\" height=\"200\" align=\"center\">"
      ],
      "metadata": {
        "id": "MzFC6CQ5PrIT"
      }
    },
    {
      "source": [
        "import numpy as nu\n",
        "# @title Calculadora { run: \"auto\", vertical-output: true, form-width: \"70%\" }\n",
        "operacion = \"suma\" # @param [\"suma\", \"resta\", \"multiplicacion\", \"division\", \"raiz\", \"seno\", \"coseno\", \"potencia\"]\n",
        "\n",
        "def suma(a,b):\n",
        "  return a+b\n",
        "def resta(a,b):\n",
        "    return a-b\n",
        "def multiplicacion(a,b):\n",
        "    return a*b\n",
        "def division(a,b):\n",
        "    if b == 0:\n",
        "        return \"No se puede dividir por cero\"\n",
        "    return a/b\n",
        "def raiz(a):\n",
        "    return nu.sqrt(a)\n",
        "def seno(a):\n",
        "    return nu.sin(a)\n",
        "def coseno(a):\n",
        "    return nu.cos(a)\n",
        "def potencia(a,b):\n",
        "    return a**b\n",
        "def exponencial(a):\n",
        "    return nu.exp(a)\n",
        "def logaritmo(a):\n",
        "    return nu.log(a)\n",
        "def factorial(a):\n",
        "    return nu.factorial(a)\n",
        "\n",
        "def pedir_numero():\n",
        "    while True:\n",
        "        try:\n",
        "            return float(input(\"Ingrese un número: \"))\n",
        "        except ValueError:\n",
        "            print(\"Error: Ingrese un número válido\")\n",
        "\n",
        "if operacion == \"suma\":\n",
        "  a = pedir_numero()\n",
        "  b = pedir_numero()\n",
        "  print(suma(a,b))\n",
        "\n",
        "if operacion == \"resta\":\n",
        " a = pedir_numero()\n",
        " b = pedir_numero()\n",
        "print(resta(a,b))\n",
        "\n",
        "if operacion == \"resta\":\n",
        "  a = pedir_numero()\n",
        "  b = pedir_numero()\n",
        "  print(resta(a,b))\n",
        "\n",
        "if operacion == \"multiplicacion\":\n",
        "  a = pedir_numero()\n",
        "  b = pedir_numero()\n",
        "  print(multiplicacion(a,b))\n",
        "\n",
        "if operacion == \"division\":\n",
        " a = pedir_numero()\n",
        " b = pedir_numero()\n",
        "print(division(a,b))\n",
        "\n",
        "if operacion == \"raiz\":\n",
        "    a = pedir_numero()\n",
        "    print(raiz(a))\n",
        "\n",
        "if operacion == \"seno\":\n",
        "    a = pedir_numero()\n",
        "    print(seno(a))\n",
        "\n",
        "if operacion == \"coseno\":\n",
        "    a = pedir_numero()\n",
        "    print(coseno(a))\n",
        "\n",
        "if operacion == \"potencia\":\n",
        "    a = pedir_numero()\n",
        "    b = pedir_numero()\n",
        "    print(potencia(a,b))\n",
        "if operacion == \"exponencial\":\n",
        "    a = pedir_numero()\n",
        "    print(exponencial(a))\n",
        "if operacion == \"logaritmo\":\n",
        "    a = pedir_numero()\n",
        "    print(logaritmo(a))\n",
        "if operacion == \"factorial\":\n",
        "    a = pedir_numero()\n",
        "    print(factorial(a))\n"
      ],
      "cell_type": "code",
      "metadata": {
        "id": "l7IZDOGEVO1w",
        "colab": {
          "base_uri": "https://localhost:8080/"
        },
        "outputId": "5be0ba2f-6667-41b8-f7b8-d988227ed894"
      },
      "execution_count": 11,
      "outputs": [
        {
          "output_type": "stream",
          "name": "stdout",
          "text": [
            "Ingrese un número: 9\n",
            "Ingrese un número: 9\n",
            "18.0\n",
            "0.0\n",
            "1.0\n"
          ]
        }
      ]
    }
  ]
}