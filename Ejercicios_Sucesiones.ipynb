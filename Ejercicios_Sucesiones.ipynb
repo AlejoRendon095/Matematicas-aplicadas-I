{
  "nbformat": 4,
  "nbformat_minor": 0,
  "metadata": {
    "colab": {
      "provenance": [],
      "authorship_tag": "ABX9TyPkK/ESn/dI2mjEvEDtii2g",
      "include_colab_link": true
    },
    "kernelspec": {
      "name": "python3",
      "display_name": "Python 3"
    },
    "language_info": {
      "name": "python"
    }
  },
  "cells": [
    {
      "cell_type": "markdown",
      "metadata": {
        "id": "view-in-github",
        "colab_type": "text"
      },
      "source": [
        "<a href=\"https://colab.research.google.com/github/AlejoRendon095/Matematicas-aplicadas-I/blob/main/Ejercicios_Sucesiones.ipynb\" target=\"_parent\"><img src=\"https://colab.research.google.com/assets/colab-badge.svg\" alt=\"Open In Colab\"/></a>"
      ]
    },
    {
      "cell_type": "markdown",
      "source": [
        "#<font color = \"Blue\">$Ejercicio$ $Sucesiones$\n",
        "##Alejandro Rendón\n",
        "##Samuel Granda\n",
        "##Juan Camilo Criollo\n"
      ],
      "metadata": {
        "id": "J8xDXHjyT0rb"
      }
    },
    {
      "cell_type": "markdown",
      "source": [
        "<img src=https://i.gifer.com/origin/04/0479f858b813dc34eb808c990c380919_w200.gif width=\"500\" height=\"250\" align=\"center\">"
      ],
      "metadata": {
        "id": "LIDFPbHuUADc"
      }
    }
  ]
}