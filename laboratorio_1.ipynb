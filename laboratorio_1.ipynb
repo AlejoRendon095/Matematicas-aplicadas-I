{
  "cells": [
    {
      "cell_type": "markdown",
      "metadata": {
        "id": "view-in-github",
        "colab_type": "text"
      },
      "source": [
        "<a href=\"https://colab.research.google.com/github/AlejoRendon095/Matematicas-aplicadas-I/blob/main/laboratorio_1.ipynb\" target=\"_parent\"><img src=\"https://colab.research.google.com/assets/colab-badge.svg\" alt=\"Open In Colab\"/></a>"
      ]
    },
    {
      "cell_type": "markdown",
      "metadata": {
        "id": "pQ09ThjLOajE"
      },
      "source": [
        "#<font color = \"Blue\">$Cajero$ $Automatico$\n",
        "##Alejandro Rendón\n",
        "##Samuel Granda\n",
        "##Juan Camilo Criollo\n"
      ]
    },
    {
      "cell_type": "markdown",
      "metadata": {
        "id": "iOOVm8fJOmOy"
      },
      "source": [
        "<img src=https://cdn-icons-gif.flaticon.com/12147/12147229.gif width=\"300\" height=\"200\" align=\"center\">"
      ]
    },
    {
      "cell_type": "code",
      "execution_count": null,
      "metadata": {
        "colab": {
          "base_uri": "https://localhost:8080/",
          "height": 1000
        },
        "id": "06ZbzTnVO0kq",
        "outputId": "8a1319db-7efb-4688-f28f-b0ed9ba90db0"
      },
      "outputs": [
        {
          "output_type": "stream",
          "name": "stdout",
          "text": [
            "Bienvenido al cajero automatico\n",
            "Elige 1 si deseas registrarte\n",
            "Elige 2 si ya tienes una cuenta\n",
            "1\n",
            "Por favor digita tu nombre\n",
            "alejo\n",
            "Por favor digita tu contraseña\n",
            "12\n",
            "Gracias por registrarte alejo\n",
            "Por favor elija la opción que deseas realizar\n",
            "['1- Consultar saldo', '2- Depositar', '3- Retirar', '4- Transferir dinero', '5- Salir']\n",
            "1\n",
            "Tu saldo es de: 335\n",
            "Por favor elija la opción que deseas realizar\n",
            "['1- Consultar saldo', '2- Depositar', '3- Retirar', '4- Transferir dinero', '5- Salir']\n",
            "2\n",
            "¿Cuanto dinero deseas depositar?\n",
            "5000\n",
            "Deposito confirmado\n",
            "Por favor elija la opción que deseas realizar\n",
            "['1- Consultar saldo', '2- Depositar', '3- Retirar', '4- Transferir dinero', '5- Salir']\n",
            "3\n",
            "¿Cuanto dinero deseas retirar?\n",
            "2000\n",
            "Retiro confirmado\n",
            "Por favor elija la opción que deseas realizar\n",
            "['1- Consultar saldo', '2- Depositar', '3- Retirar', '4- Transferir dinero', '5- Salir']\n",
            "4\n",
            "¿A quien deseas transferir dinero?\n",
            "Sebas\n",
            "¿Cuanto dinero deseas transferir?\n",
            "199\n",
            "Transferencia confirmada\n",
            "Por favor elija la opción que deseas realizar\n",
            "['1- Consultar saldo', '2- Depositar', '3- Retirar', '4- Transferir dinero', '5- Salir']\n",
            "5\n",
            "Gracias por usar nuestro cajero alejo\n",
            "Vuelve pronto...\n",
            ";) .....\n",
            "Bienvenido al cajero automatico\n",
            "Elige 1 si deseas registrarte\n",
            "Elige 2 si ya tienes una cuenta\n",
            "2\n",
            "Por favor digita tu nombre\n",
            "alejo\n",
            "Por favor digita tu contraseña\n",
            "12\n",
            "Bienvenido de nuevo :) alejo\n",
            "Por favor elija la opción que deseas realizar\n",
            "['1- Consultar saldo', '2- Depositar', '3- Retirar', '4- Transferir dinero', '5- Salir']\n"
          ]
        },
        {
          "output_type": "error",
          "ename": "KeyboardInterrupt",
          "evalue": "Interrupted by user",
          "traceback": [
            "\u001b[0;31m---------------------------------------------------------------------------\u001b[0m",
            "\u001b[0;31mKeyboardInterrupt\u001b[0m                         Traceback (most recent call last)",
            "\u001b[0;32m<ipython-input-14-0ca8a5a85d64>\u001b[0m in \u001b[0;36m<cell line: 13>\u001b[0;34m()\u001b[0m\n\u001b[1;32m     49\u001b[0m     \u001b[0mAcción\u001b[0m \u001b[0;34m=\u001b[0m \u001b[0;34m[\u001b[0m\u001b[0;34m\"1- Consultar saldo\"\u001b[0m\u001b[0;34m,\u001b[0m \u001b[0;34m\"2- Depositar\"\u001b[0m\u001b[0;34m,\u001b[0m \u001b[0;34m\"3- Retirar\"\u001b[0m\u001b[0;34m,\u001b[0m \u001b[0;34m\"4- Transferir dinero\"\u001b[0m\u001b[0;34m,\u001b[0m \u001b[0;34m\"5- Salir\"\u001b[0m\u001b[0;34m]\u001b[0m\u001b[0;34m\u001b[0m\u001b[0;34m\u001b[0m\u001b[0m\n\u001b[1;32m     50\u001b[0m     \u001b[0mprint\u001b[0m\u001b[0;34m(\u001b[0m\u001b[0mAcción\u001b[0m\u001b[0;34m)\u001b[0m\u001b[0;34m\u001b[0m\u001b[0;34m\u001b[0m\u001b[0m\n\u001b[0;32m---> 51\u001b[0;31m     \u001b[0mrespuesta0\u001b[0m \u001b[0;34m=\u001b[0m \u001b[0mint\u001b[0m\u001b[0;34m(\u001b[0m\u001b[0minput\u001b[0m\u001b[0;34m(\u001b[0m\u001b[0;34m)\u001b[0m\u001b[0;34m)\u001b[0m\u001b[0;34m\u001b[0m\u001b[0;34m\u001b[0m\u001b[0m\n\u001b[0m\u001b[1;32m     52\u001b[0m \u001b[0;34m\u001b[0m\u001b[0m\n\u001b[1;32m     53\u001b[0m     \u001b[0;32mif\u001b[0m \u001b[0mrespuesta0\u001b[0m \u001b[0;34m==\u001b[0m \u001b[0;36m2\u001b[0m\u001b[0;34m:\u001b[0m\u001b[0;34m\u001b[0m\u001b[0;34m\u001b[0m\u001b[0m\n",
            "\u001b[0;32m/usr/local/lib/python3.10/dist-packages/ipykernel/kernelbase.py\u001b[0m in \u001b[0;36mraw_input\u001b[0;34m(self, prompt)\u001b[0m\n\u001b[1;32m    849\u001b[0m                 \u001b[0;34m\"raw_input was called, but this frontend does not support input requests.\"\u001b[0m\u001b[0;34m\u001b[0m\u001b[0;34m\u001b[0m\u001b[0m\n\u001b[1;32m    850\u001b[0m             )\n\u001b[0;32m--> 851\u001b[0;31m         return self._input_request(str(prompt),\n\u001b[0m\u001b[1;32m    852\u001b[0m             \u001b[0mself\u001b[0m\u001b[0;34m.\u001b[0m\u001b[0m_parent_ident\u001b[0m\u001b[0;34m,\u001b[0m\u001b[0;34m\u001b[0m\u001b[0;34m\u001b[0m\u001b[0m\n\u001b[1;32m    853\u001b[0m             \u001b[0mself\u001b[0m\u001b[0;34m.\u001b[0m\u001b[0m_parent_header\u001b[0m\u001b[0;34m,\u001b[0m\u001b[0;34m\u001b[0m\u001b[0;34m\u001b[0m\u001b[0m\n",
            "\u001b[0;32m/usr/local/lib/python3.10/dist-packages/ipykernel/kernelbase.py\u001b[0m in \u001b[0;36m_input_request\u001b[0;34m(self, prompt, ident, parent, password)\u001b[0m\n\u001b[1;32m    893\u001b[0m             \u001b[0;32mexcept\u001b[0m \u001b[0mKeyboardInterrupt\u001b[0m\u001b[0;34m:\u001b[0m\u001b[0;34m\u001b[0m\u001b[0;34m\u001b[0m\u001b[0m\n\u001b[1;32m    894\u001b[0m                 \u001b[0;31m# re-raise KeyboardInterrupt, to truncate traceback\u001b[0m\u001b[0;34m\u001b[0m\u001b[0;34m\u001b[0m\u001b[0m\n\u001b[0;32m--> 895\u001b[0;31m                 \u001b[0;32mraise\u001b[0m \u001b[0mKeyboardInterrupt\u001b[0m\u001b[0;34m(\u001b[0m\u001b[0;34m\"Interrupted by user\"\u001b[0m\u001b[0;34m)\u001b[0m \u001b[0;32mfrom\u001b[0m \u001b[0;32mNone\u001b[0m\u001b[0;34m\u001b[0m\u001b[0;34m\u001b[0m\u001b[0m\n\u001b[0m\u001b[1;32m    896\u001b[0m             \u001b[0;32mexcept\u001b[0m \u001b[0mException\u001b[0m \u001b[0;32mas\u001b[0m \u001b[0me\u001b[0m\u001b[0;34m:\u001b[0m\u001b[0;34m\u001b[0m\u001b[0;34m\u001b[0m\u001b[0m\n\u001b[1;32m    897\u001b[0m                 \u001b[0mself\u001b[0m\u001b[0;34m.\u001b[0m\u001b[0mlog\u001b[0m\u001b[0;34m.\u001b[0m\u001b[0mwarning\u001b[0m\u001b[0;34m(\u001b[0m\u001b[0;34m\"Invalid Message:\"\u001b[0m\u001b[0;34m,\u001b[0m \u001b[0mexc_info\u001b[0m\u001b[0;34m=\u001b[0m\u001b[0;32mTrue\u001b[0m\u001b[0;34m)\u001b[0m\u001b[0;34m\u001b[0m\u001b[0;34m\u001b[0m\u001b[0m\n",
            "\u001b[0;31mKeyboardInterrupt\u001b[0m: Interrupted by user"
          ]
        }
      ],
      "source": [
        "import numpy as np\n",
        "import random as rd\n",
        "\n",
        "def valoresRegistro():\n",
        "  nombre = []\n",
        "  contraseña = []\n",
        "  print(\"Por favor digita tu nombre\")\n",
        "  nombre = input()\n",
        "  print(\"Por favor digita tu contraseña\")\n",
        "  contraseña = input()\n",
        "  return nombre, contraseña\n",
        "\n",
        "while True:\n",
        "  print(\"Bienvenido al cajero automatico\")\n",
        "  print (\"Elige 1 si deseas registrarte\")\n",
        "  print (\"Elige 2 si ya tienes una cuenta\")\n",
        "  while True:\n",
        "    try:\n",
        "      respuesta = int(input())\n",
        "      break\n",
        "    except ValueError:\n",
        "      print(\"Por favor digita una opción valida\")\n",
        "\n",
        "\n",
        "\n",
        "  saldo = rd.randint(1,1000)\n",
        "\n",
        "  if respuesta == 1:\n",
        "      nombre, contraseña = valoresRegistro()\n",
        "      print(\"Gracias por registrarte \" + str(nombre))\n",
        "\n",
        "\n",
        "  elif respuesta == 2:\n",
        "     while True:\n",
        "        print(\"Por favor digita tu nombre\")\n",
        "        nombre2 = input()\n",
        "        print(\"Por favor digita tu contraseña\")\n",
        "        contraseña2 = input()\n",
        "        if nombre2 == nombre and contraseña2 == contraseña:\n",
        "            print(\"Bienvenido de nuevo :) \" + str(nombre))\n",
        "            break\n",
        "        else:\n",
        "            print(\"Nombre o contraseña incorrectos\")\n",
        "\n",
        "\n",
        "\n",
        "  while True:\n",
        "    print(\"Por favor elija la opción que deseas realizar\")\n",
        "    Acción = [\"1- Consultar saldo\", \"2- Depositar\", \"3- Retirar\", \"4- Transferir dinero\", \"5- Salir\"]\n",
        "    print(Acción)\n",
        "    respuesta0 = int(input())\n",
        "\n",
        "    if respuesta0 == 2:\n",
        "          print(\"¿Cuanto dinero deseas depositar?\")\n",
        "          deposito = float(input())\n",
        "          saldo = deposito + saldo\n",
        "          print(\"Deposito confirmado\")\n",
        "\n",
        "    elif respuesta0 == 1:\n",
        "        print(\"Tu saldo es de: \" +str(saldo))\n",
        "\n",
        "    elif respuesta0 == 3:\n",
        "      while True:\n",
        "        print(\"¿Cuanto dinero deseas retirar?\")\n",
        "        retiro = float(input())\n",
        "        if saldo >= retiro:\n",
        "          saldo = saldo - retiro\n",
        "          print(\"Retiro confirmado\")\n",
        "          break\n",
        "        else:\n",
        "          print(\"No tienes suficiente saldo\")\n",
        "\n",
        "\n",
        "    elif respuesta0 == 4:\n",
        "        print(\"¿A quien deseas transferir dinero?\")\n",
        "        nombre3 = input()\n",
        "        print(\"¿Cuanto dinero deseas transferir?\")\n",
        "        transferencia = float(input())\n",
        "        if saldo < transferencia:\n",
        "          print(\"No tienes suficiente saldo\")\n",
        "        else:\n",
        "          saldo = saldo - transferencia\n",
        "          print(\"Transferencia confirmada\")\n",
        "\n",
        "    elif respuesta0 == 5:\n",
        "        print(\"Gracias por usar nuestro cajero \" + str(nombre))\n",
        "        print(\"Vuelve pronto...\")\n",
        "        print(\";) .....\")\n",
        "        break\n",
        "    else:\n",
        "        print(\"Por favor digita una opción valida\")\n",
        "\n",
        "\n",
        "\n",
        "\n",
        "\n",
        "\n"
      ]
    }
  ],
  "metadata": {
    "colab": {
      "provenance": [],
      "authorship_tag": "ABX9TyMuzHbt6tjN43n8jqN5o+XX",
      "include_colab_link": true
    },
    "kernelspec": {
      "display_name": "Python 3",
      "name": "python3"
    },
    "language_info": {
      "name": "python"
    }
  },
  "nbformat": 4,
  "nbformat_minor": 0
}