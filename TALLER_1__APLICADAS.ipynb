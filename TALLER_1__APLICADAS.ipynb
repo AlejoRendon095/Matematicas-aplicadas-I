{
  "nbformat": 4,
  "nbformat_minor": 0,
  "metadata": {
    "colab": {
      "provenance": [],
      "collapsed_sections": [
        "fKsDPqi9NtHz",
        "3D9bI56vNwJm"
      ],
      "include_colab_link": true
    },
    "kernelspec": {
      "name": "python3",
      "display_name": "Python 3"
    },
    "language_info": {
      "name": "python"
    }
  },
  "cells": [
    {
      "cell_type": "markdown",
      "metadata": {
        "id": "view-in-github",
        "colab_type": "text"
      },
      "source": [
        "<a href=\"https://colab.research.google.com/github/AlejoRendon095/Matematicas-aplicadas-I/blob/main/TALLER_1__APLICADAS.ipynb\" target=\"_parent\"><img src=\"https://colab.research.google.com/assets/colab-badge.svg\" alt=\"Open In Colab\"/></a>"
      ]
    },
    {
      "cell_type": "markdown",
      "source": [
        "#$Taller$ $De$ $Matematicas$ $Aplicadas$\n",
        "##Alejandro Rendón\n",
        "##Samuel Granda\n",
        "##Juan Camilo Criollo\n",
        "\n"
      ],
      "metadata": {
        "id": "ZEG1R5v_dEHn"
      }
    },
    {
      "cell_type": "markdown",
      "source": [
        "<img src=https://i.gifer.com/WbmL.gif width=\"300\" height=\"200\" align=\"center\">"
      ],
      "metadata": {
        "id": "EiAmBjiudbRS"
      }
    },
    {
      "cell_type": "markdown",
      "source": [
        "##Resolver los siguientes polinomios y compruebe con código\n",
        "\n",
        "###*$[3(−5 + 10 + (−5)) − 2((−2) + (−4) + 10)]^2$*\n",
        "\n",
        "\n"
      ],
      "metadata": {
        "id": "uWci4q76d_DF"
      }
    },
    {
      "source": [
        "\n",
        "x = int((3*(-5 + 10 + (-5)) - 2*((-2) + (-4) + 10))**2)\n",
        "print(x)"
      ],
      "cell_type": "code",
      "metadata": {
        "colab": {
          "base_uri": "https://localhost:8080/"
        },
        "id": "0GPykBPviQjI",
        "outputId": "4ab73ce0-581b-427e-82fc-d56b339f4bff"
      },
      "execution_count": null,
      "outputs": [
        {
          "output_type": "stream",
          "name": "stdout",
          "text": [
            "64\n"
          ]
        }
      ]
    },
    {
      "cell_type": "markdown",
      "source": [
        "###$45 + [3 (2 + 8) – $ $\\frac{8}{4}] + 10 − 83$"
      ],
      "metadata": {
        "id": "hW9qRscmjAG5"
      }
    },
    {
      "cell_type": "code",
      "source": [
        "x= int(45 + (3*(2+8) - (8/4) + 10 - 83))\n",
        "print(x)"
      ],
      "metadata": {
        "colab": {
          "base_uri": "https://localhost:8080/"
        },
        "id": "lNORfSeFjwcO",
        "outputId": "3b50c4f8-aa3d-4e82-cfb2-386c7d0db348"
      },
      "execution_count": null,
      "outputs": [
        {
          "output_type": "stream",
          "name": "stdout",
          "text": [
            "0\n"
          ]
        }
      ]
    },
    {
      "cell_type": "markdown",
      "source": [
        "###$[( −4 + 7)2 − 10](−4)–7 − 3$"
      ],
      "metadata": {
        "id": "YtmXf4kQj-Xg"
      }
    },
    {
      "cell_type": "code",
      "source": [
        "x=int(((((-4 + 7)*2) - 10) * (-4) - 7 - 3))\n",
        "print(x)"
      ],
      "metadata": {
        "colab": {
          "base_uri": "https://localhost:8080/"
        },
        "id": "IcYS7opLkIWk",
        "outputId": "c735c113-16e7-4bd3-ce3f-01fa78058c29"
      },
      "execution_count": null,
      "outputs": [
        {
          "output_type": "stream",
          "name": "stdout",
          "text": [
            "6\n"
          ]
        }
      ]
    },
    {
      "cell_type": "markdown",
      "source": [
        "## Combinacion de operaciones\n",
        "\n",
        "### $\\frac{1}{5}[(\\frac{1}{2})^2 + (\\frac{3}{4})^2] + \\frac{10}{25}[(\\frac{1}{2})^2+(\\frac{3}{4})^2]+\\frac{8}{40}[(\\frac{1}{2})^2+(\\frac{3}{4})^2]$"
      ],
      "metadata": {
        "id": "vGmcguH6kSr1"
      }
    },
    {
      "cell_type": "code",
      "source": [
        "x= int((1/5)*((1/2)**2 + (3/4)**2) + (10/25)*((1/2)**2 + (3/4)**2) + (8/40)*((1/2)**2 + (3/4)**2))\n",
        "print(x)"
      ],
      "metadata": {
        "colab": {
          "base_uri": "https://localhost:8080/"
        },
        "id": "MlFUxeicmDh3",
        "outputId": "1b04f7db-de48-443a-b615-6fcbb45b8804"
      },
      "execution_count": null,
      "outputs": [
        {
          "output_type": "stream",
          "name": "stdout",
          "text": [
            "0\n"
          ]
        }
      ]
    },
    {
      "cell_type": "markdown",
      "source": [
        "###$\\frac{9}{4}(\\frac{6}{8})^{-1}-\\frac{5}{2}(\\frac{25}{20}^{-1}+\\frac{40}{8}(\\frac{20}{16})^{-1}$"
      ],
      "metadata": {
        "id": "KeZAgQVmmLrG"
      }
    },
    {
      "cell_type": "code",
      "source": [
        "x= int((9/4)*(6/8)**-1 - (5/2)*(25/20)**-1 + (40/8)*(20/16)**-1)\n",
        "print(x)"
      ],
      "metadata": {
        "colab": {
          "base_uri": "https://localhost:8080/"
        },
        "id": "3eb3NRRmoRii",
        "outputId": "faaa6c29-154f-4973-dc7a-a9dd7bd6db3c"
      },
      "execution_count": null,
      "outputs": [
        {
          "output_type": "stream",
          "name": "stdout",
          "text": [
            "5\n"
          ]
        }
      ]
    },
    {
      "cell_type": "markdown",
      "source": [
        "\n",
        "##Transcripcion de funciones\n",
        "###Para cada una de las funciones dadas a continuacion, despeje la variable indicada y luego escriba la funcion despejada en LaTex\n"
      ],
      "metadata": {
        "id": "_LcmL5tPoQFK"
      }
    },
    {
      "cell_type": "markdown",
      "source": [
        "|Nombre de la formula | Formula_________| Variable a despejar | Formulaa despejada____|\n",
        "|-------|-------------------|---------------------|--------------------|\n",
        "|$Area$ $lateral$ $de$ $un$ $cilindro$|$A=2πrg$|_____ $r$| $r=\\frac{A}{2πg}$|\n",
        "|$Volumen$ $del$ $cono$| $V=\\frac{{A_g}\\cdot {h}}{3}$ |____$h$|$h=\\frac{3V}{A_g}$|\n",
        "|$Volumen$ $de$ $la$ $esfera$|$V=\\frac{4}{3}⋅π⋅r^3$| ____$r$ | $r = \\sqrt[3]{\\frac{3V}{4 \\pi}}$|\n",
        "|$Área$ $del$ $trapecio$| $A=\\frac{B + b}{2}·h$| ______$h$ | $h=\\frac{2A}{B+b}$|\n",
        "|$Intensidad$ $eléctrica$| $I=\\frac{q}{t}$ |_______$t$| $t = \\frac{q}{I}$|\n",
        "|$Ley$ $de$ $Ohm$|$I=\\frac{V}{R}$|_____$R$|$R = \\frac{V}{I}$|\n",
        "|$Energia$ $Eléctrica$|$E=\\frac{V^2}{R}.t$|____$t$|$t = \\frac{E \\cdot R}{V^2}$|\n",
        "|$Resistencias$ $en$ $paralelo$|$\\frac{1}{R}=\\frac{1}{R_1}+\\frac{1}{R_2}$|____$R$|$R = \\frac{R_1 \\cdot R_2}{R_1 + R_2}$|\n",
        "|$Ecuación$ $gases$ $perfectos$|$\\frac{P_0V_0}{T_0}=\\frac{P_fV_f}{T_f}$|___$P_f$|$P_f = \\frac{P_0 V_0 T_f}{V_f}$|\n",
        "|$Intensidad$ $eléctrica$|$I=\\frac{V_A-V_B}{R}$|___$V_B$|$V_B = V_A - I \\cdot R$|\n"
      ],
      "metadata": {
        "id": "0RXD98OMfCL7"
      }
    },
    {
      "cell_type": "markdown",
      "source": [
        "##$Punto$ $2$\n",
        "A continuacion se encuentran dos funciones a trozos, Transcribalas en Python y haga una lista de Valores aleatorios para que verificar la funcion. Determine para cada funcion su dominio."
      ],
      "metadata": {
        "id": "y9PE9qn_8RDJ"
      }
    },
    {
      "cell_type": "markdown",
      "source": [
        "##$2.1$\n",
        "$\n",
        "f(x) =\n",
        "\\begin{cases}\n",
        "x+2 & \\text{si } x < -3 \\\\\n",
        "-x & \\text{si } x < 0 \\\\\n",
        "2 &\\text{si } x \\geq 0\\\\\n",
        "\\end{cases}\n",
        "$\n"
      ],
      "metadata": {
        "id": "9fSzcskP37Lc"
      }
    },
    {
      "cell_type": "markdown",
      "source": [
        "$Dominio$\n",
        "\n",
        "Esta funcion puede trabajar con todos los numeros reales, pero debe cumplir con las siguientes reglas:\n",
        "\n",
        "\n",
        "\n",
        "*   Para $x<-3$ se aplica la funcion $x+2$\n",
        "*   Si $x<0$ devuelve el valor de $-x$\n",
        "*   Cuando $x \\geq 0$ trabaja con el valor constante $2$\n",
        "\n"
      ],
      "metadata": {
        "id": "CVEdPzyE0bDN"
      }
    },
    {
      "cell_type": "code",
      "source": [
        "import random\n",
        "\n",
        "def f(x):\n",
        "    if x < -3:\n",
        "        return x + 2\n",
        "    elif x < 0:\n",
        "        return -x\n",
        "    else:\n",
        "        return 2\n",
        "\n",
        "valores_x = [random.uniform(-5, 5) for x in range(10)]\n",
        "for x in valores_x:\n",
        "    print(\"El valor de x es: \", x, \"f(x) = \", f(x))\n",
        "\n"
      ],
      "metadata": {
        "id": "oWF44R-d5qIv",
        "colab": {
          "base_uri": "https://localhost:8080/"
        },
        "outputId": "655ee125-354f-474d-d37f-7d6f81a30fbc"
      },
      "execution_count": null,
      "outputs": [
        {
          "output_type": "stream",
          "name": "stdout",
          "text": [
            "El valor de x es:  -0.14400592600792628 f(x) =  0.14400592600792628\n",
            "El valor de x es:  -0.005840472092532245 f(x) =  0.005840472092532245\n",
            "El valor de x es:  0.7994503452994319 f(x) =  2\n",
            "El valor de x es:  -2.0826620033131227 f(x) =  2.0826620033131227\n",
            "El valor de x es:  1.878447787281912 f(x) =  2\n",
            "El valor de x es:  3.5079087230813766 f(x) =  2\n",
            "El valor de x es:  -0.6373059306422064 f(x) =  0.6373059306422064\n",
            "El valor de x es:  -4.951720862796861 f(x) =  -2.9517208627968614\n",
            "El valor de x es:  -0.3524706739082015 f(x) =  0.3524706739082015\n",
            "El valor de x es:  2.358628868088414 f(x) =  2\n"
          ]
        }
      ]
    },
    {
      "cell_type": "markdown",
      "source": [
        "##$2.2$\n",
        "a y b deben poder ser elegidos por el usuario usando la funcion Input\n",
        "\n",
        "\n"
      ],
      "metadata": {
        "id": "Bed8CrueAh3W"
      }
    },
    {
      "cell_type": "markdown",
      "source": [
        "$\n",
        "f(x) =\n",
        "\\begin{cases}\n",
        "a-x^2 & \\text{si } x < 0 \\\\\n",
        "2 & \\text{si } 0\\leq x \\leq 1 \\\\\n",
        "x^2 - 2x + b &\\text{si } x > 1\\\\\n",
        "\\end{cases}\n",
        "$\n"
      ],
      "metadata": {
        "id": "Y-Wwv4E6AxuL"
      }
    },
    {
      "cell_type": "markdown",
      "source": [
        "$Dominio$\n",
        "\n",
        "Esta funcion esta definida para todos los numeros reales aunque tiene ciertas reglas que se deben respetar\n",
        "\n",
        "\n",
        "*   Para $x<0$ se debe utilizar la formula $a-x^2$\n",
        "*   Para $0\\leq x \\leq 1$ la funcion devuelve el valor constante $2$\n",
        "* Para $x>1$ la funcion aplica la formula $x^2-2x+b$\n",
        "\n"
      ],
      "metadata": {
        "id": "X8i8fBkEzO5N"
      }
    },
    {
      "cell_type": "code",
      "source": [
        "import random\n",
        "\n",
        "x = random.uniform(-5, 5)\n",
        "print(\"El valor de x es:\", x)\n",
        "a=float(input(\"Ingrese el valor de a: \"))\n",
        "b=float(input(\"Ingrese el valor de b: \"))\n",
        "\n",
        "def f(x):\n",
        "    if x < 0:\n",
        "        return a - x**2\n",
        "    elif 0 <= x <= 1:\n",
        "        return 2\n",
        "    else:\n",
        "        return x**2 - 2*x + b\n",
        "\n",
        "print(\"El valor de f(x) es:\", f(x))"
      ],
      "metadata": {
        "colab": {
          "base_uri": "https://localhost:8080/"
        },
        "id": "HfZr6SksBuvS",
        "outputId": "d17cb7af-d09b-4619-ee34-09631c857b37"
      },
      "execution_count": null,
      "outputs": [
        {
          "output_type": "stream",
          "name": "stdout",
          "text": [
            "El valor de x es: 3.2595708037093427\n",
            "Ingrese el valor de a: 1\n",
            "Ingrese el valor de b: 2\n",
            "El valor de f(x) es: 6.105660216975686\n"
          ]
        }
      ]
    },
    {
      "cell_type": "markdown",
      "source": [
        "## $Punto$ $3$\n",
        "\n",
        "###*$Listas$*\n",
        "\n"
      ],
      "metadata": {
        "id": "Zyf_o-9O4L_K"
      }
    },
    {
      "cell_type": "markdown",
      "source": [
        "###$3.1$\n",
        " Escribir una funcion que reciba una muestra de numeros en una lista y\n",
        "devuelva otra lista con sus cuadrados, otra con los cubos y otra con las\n",
        "raices.\n"
      ],
      "metadata": {
        "id": "fKsDPqi9NtHz"
      }
    },
    {
      "cell_type": "code",
      "source": [
        "import math\n",
        "\n",
        "def procesar_numeros(numeros):\n",
        "    cuadrados = []\n",
        "    cubos = []\n",
        "    raices_cuadradas = []\n",
        "\n",
        "    for num in numeros:\n",
        "        cuadrados.append(num ** 2)\n",
        "        cubos.append(num ** 3)\n",
        "\n",
        "        if num >= 0:\n",
        "            raiz = math.sqrt(num)\n",
        "            raices_cuadradas.append(raiz)\n",
        "        else:\n",
        "            raices_cuadradas.append(None)  #No soporta numeros complejos :/\n",
        "\n",
        "    return cuadrados, cubos, raices_cuadradas\n",
        "\n",
        "input_str = input(\"Introduce una lista de números enteros separados por comas: \")\n",
        "numeros = list(map(int, input_str.split(',')))\n",
        "cuadrados, cubos, raices_cuadradas = procesar_numeros(numeros)\n",
        "\n",
        "print(\"Cuadrados:\", cuadrados)\n",
        "print(\"Cubos:\", cubos)\n",
        "print(\"Raíces cuadradas:\", raices_cuadradas)\n"
      ],
      "metadata": {
        "colab": {
          "base_uri": "https://localhost:8080/"
        },
        "id": "fBX7BSSmwMxu",
        "outputId": "a13a711a-7c31-4f90-ffd4-5876d7dd9c48"
      },
      "execution_count": null,
      "outputs": [
        {
          "output_type": "stream",
          "name": "stdout",
          "text": [
            "Introduce una lista de números enteros separados por comas: 5,5,5\n",
            "Cuadrados: [25, 25, 25]\n",
            "Cubos: [125, 125, 125]\n",
            "Raíces cuadradas: [2.23606797749979, 2.23606797749979, 2.23606797749979]\n"
          ]
        }
      ]
    },
    {
      "cell_type": "markdown",
      "source": [
        "###$3.2$\n",
        "Escribir un programa que almacene las asignaturas vistas el semestre pasado en una lista, pregunte al usuario la nota que ha sacado en cada asignatura. Haga un print donde muestre al usuario la siguiente informacion:\n",
        "\n",
        "\n",
        "*    Si la nota es Mayor o igual a 4 debe mostrar un mensaje que diga:\n",
        "”Nivel superior”\n",
        "*   Si la nota esta entre 3,5 y 4 (menor a 4), debe mostrar un mensaje que ´\n",
        "diga: Asignatura aprobada pero debe asistir a plan de mejoramiento,\n",
        "dirijase a CAMBAS.\n",
        "* Si la nota es menor a 3,5 debe aparecer .Asignatura No aprobada”Debe\n",
        "repetirla el proximo semestre\n",
        "* Punto adicional. Haga un programa que almacene cada asignatura\n",
        "en una tabla con su respectiva nota y el mensaje asociado a la nota.\n",
        "\n",
        "\n",
        "\n"
      ],
      "metadata": {
        "id": "3D9bI56vNwJm"
      }
    },
    {
      "cell_type": "code",
      "source": [
        "import tabulate\n",
        "\n",
        "\n",
        "asignaturas = [\"COE I\", \"Lógica y argumentacion\", \"Algebra y funciones\", \"Intro SIS\", \"Organizaciones\", \"Fundamentos del derecho constitucional\"]\n",
        "\n",
        "informe = []\n",
        "\n",
        "\n",
        "def evaluar_notas(notas):\n",
        "    for asignatura, nota in notas.items():\n",
        "        if nota >= 4:\n",
        "            mensaje = \"Nivel superior\"\n",
        "        elif 3.5 <= nota < 4:\n",
        "            mensaje = \"Asignatura aprobada pero debe asistir a plan de mejoramiento, diríjase a CAMBAS.\"\n",
        "        else:\n",
        "            mensaje = \"Asignatura No aprobada. Debe repetirla el próximo semestre.\"\n",
        "\n",
        "        informe.append({\"Asignatura\": asignatura, \"Nota\": nota, \"Mensaje\": mensaje})\n",
        "\n",
        "\n",
        "notas = {}\n",
        "\n",
        "for asignatura in asignaturas:\n",
        "    while True:\n",
        "        try:\n",
        "            nota = float(input(f\"Introduce la nota para {asignatura}: \"))\n",
        "            if 0 <= nota <= 5:\n",
        "                notas[asignatura] = nota\n",
        "                break\n",
        "            else:\n",
        "                print(\"La nota debe estar entre 0 y 5. Inténtalo de nuevo.\")\n",
        "        except ValueError:\n",
        "            print(\"Entrada inválida. Por favor, ingresa un número.\")\n",
        "\n",
        "\n",
        "evaluar_notas(notas)\n",
        "\n",
        "\n",
        "print(\"\\nInforme de Notas:\")\n",
        "print(tabulate.tabulate(informe, headers=\"keys\", tablefmt=\"grid\"))\n"
      ],
      "metadata": {
        "colab": {
          "base_uri": "https://localhost:8080/"
        },
        "id": "Yjkx9N-w2_em",
        "outputId": "f767ed69-7bd5-4f5d-f378-7694f977662c"
      },
      "execution_count": null,
      "outputs": [
        {
          "output_type": "stream",
          "name": "stdout",
          "text": [
            "Introduce la nota para COE I: 5\n",
            "Introduce la nota para Lógica y argumentacion: 2\n",
            "Introduce la nota para Algebra y funciones: 3\n",
            "Introduce la nota para Intro SIS: 3.6\n",
            "Introduce la nota para Organizaciones: 5\n",
            "Introduce la nota para Fundamentos del derecho constitucional: 4.2\n",
            "\n",
            "Informe de Notas:\n",
            "+----------------------------------------+--------+----------------------------------------------------------------------------------+\n",
            "| Asignatura                             |   Nota | Mensaje                                                                          |\n",
            "+========================================+========+==================================================================================+\n",
            "| COE I                                  |    5   | Nivel superior                                                                   |\n",
            "+----------------------------------------+--------+----------------------------------------------------------------------------------+\n",
            "| Lógica y argumentacion                 |    2   | Asignatura No aprobada. Debe repetirla el próximo semestre.                      |\n",
            "+----------------------------------------+--------+----------------------------------------------------------------------------------+\n",
            "| Algebra y funciones                    |    3   | Asignatura No aprobada. Debe repetirla el próximo semestre.                      |\n",
            "+----------------------------------------+--------+----------------------------------------------------------------------------------+\n",
            "| Intro SIS                              |    3.6 | Asignatura aprobada pero debe asistir a plan de mejoramiento, diríjase a CAMBAS. |\n",
            "+----------------------------------------+--------+----------------------------------------------------------------------------------+\n",
            "| Organizaciones                         |    5   | Nivel superior                                                                   |\n",
            "+----------------------------------------+--------+----------------------------------------------------------------------------------+\n",
            "| Fundamentos del derecho constitucional |    4.2 | Nivel superior                                                                   |\n",
            "+----------------------------------------+--------+----------------------------------------------------------------------------------+\n"
          ]
        }
      ]
    },
    {
      "cell_type": "markdown",
      "source": [
        "###$3.3$\n",
        "Construya una lista que Almacene el precio del Barril de Petroleo los\n",
        "ultimos 7 dias. Indague sobre el precio de un litro de Cocacola (Hoy)\n",
        "y haga la conversion de Litros a Barriles ´ bbl oil. Construya otra lista que\n",
        "relacione proporcionalemente el precio de un barril de Petroleo vs un\n",
        "barril de Cocacola. Construya un parrafo con sus conclusiones."
      ],
      "metadata": {
        "id": "lKf_Z7uqNNIE"
      }
    },
    {
      "cell_type": "code",
      "source": [
        "import tabulate\n",
        "\n",
        "# Precio en dolares del petroleo los ultimos 7 dias\n",
        "precio_petroleo = [75.75, 75.34, 75.03, 78.85, 80.79, 80.65, 79.68]\n",
        "\n",
        "# Precio en dolares de un litro de Coca-Cola\n",
        "precio_coca = 0.88\n",
        "\n",
        "# Aplicamos regla de tres directa para determinar el precio de un barril de Coca-Cola\n",
        "precio_barril_Coca = 159 * precio_coca\n",
        "\n",
        "relacionPro = []\n",
        "\n",
        "for i in range(7):\n",
        "    relacion = precio_petroleo[i] / precio_barril_Coca\n",
        "    relacionPro.append(relacion)\n",
        "\n",
        "print(\"\\nRelación proporcional entre el precio del barril de petróleo y el precio del barril de Coca-Cola:\")\n",
        "tabla = [[f\"Día {i+1}\", relacion] for i, relacion in enumerate(relacionPro)]\n",
        "print(tabulate.tabulate(tabla, headers=[\"Día\", \"Relación Proporcional\"], tablefmt=\"grid\"))\n",
        "\n"
      ],
      "metadata": {
        "colab": {
          "base_uri": "https://localhost:8080/"
        },
        "id": "A7pqEa_jJfbg",
        "outputId": "de3849b6-b047-42bd-bc99-491223653490"
      },
      "execution_count": 9,
      "outputs": [
        {
          "output_type": "stream",
          "name": "stdout",
          "text": [
            "\n",
            "Relación proporcional entre el precio del barril de petróleo y el precio del barril de Coca-Cola:\n",
            "+-------+-------------------------+\n",
            "| Día   |   Relación Proporcional |\n",
            "+=======+=========================+\n",
            "| Día 1 |                0.541381 |\n",
            "+-------+-------------------------+\n",
            "| Día 2 |                0.538451 |\n",
            "+-------+-------------------------+\n",
            "| Día 3 |                0.536235 |\n",
            "+-------+-------------------------+\n",
            "| Día 4 |                0.563536 |\n",
            "+-------+-------------------------+\n",
            "| Día 5 |                0.577401 |\n",
            "+-------+-------------------------+\n",
            "| Día 6 |                0.576401 |\n",
            "+-------+-------------------------+\n",
            "| Día 7 |                0.569468 |\n",
            "+-------+-------------------------+\n"
          ]
        }
      ]
    },
    {
      "cell_type": "markdown",
      "source": [
        "###$Conclusiones:$\n",
        "\n",
        "Al observar el cambio de precio a lo largo de $7$ días del petroleo y que la relacion proporcional se mantenga relativamente cercana al $0.5$ vemos que el precio de un barril de Coca-Cola es aproximadamente el doble del de un barril de petróleo lo que indica que es mas barato comprar un barril de petroleo que un barril de cocacola.\n",
        "\n",
        "\n",
        "\n"
      ],
      "metadata": {
        "id": "m3UwAZgn-Det"
      }
    },
    {
      "cell_type": "markdown",
      "source": [
        "###$3.4$\n",
        "Una pareja decide guardar 5 cada mes el primer año de su matrimonio,\n",
        "15 cada mes del segundo año, 25 cada mes del tercer año y asi sucesivamente, aumentando la cantidad mensual en 10 cada año. Calcule la\n",
        "cantidad total que habran ahorrado al final del decimoquinto año. Construya una Lista para el ahorro de los 15 años de Matrimonio"
      ],
      "metadata": {
        "id": "s0ENNm-89yW8"
      }
    },
    {
      "cell_type": "code",
      "source": [
        "import tabulate\n",
        "ahorro = [0,1,2,3,4,5,6,7,8,9,10,11,12,13,14]\n",
        "\n",
        "x = 5\n",
        "i = 0\n",
        "ahorroTotal = 0\n",
        "\n",
        "\n",
        "for i in range(0,15):\n",
        "  ahorro[i] =  x*12\n",
        "  ahorroTotal += ahorro[i]\n",
        "  x += 10\n",
        "\n",
        "datos_tabla = [[f\"Año {i+1}\", ahorro[i]] for i in range(15)]\n",
        "print(\"\\nAhorro por año:\")\n",
        "print(tabulate.tabulate(datos_tabla, headers=[\"Año\", \"Ahorro\"], tablefmt=\"grid\"))\n",
        "\n",
        "print(\"La cantidad total ahorrada despues de 15 años es de: \", ahorroTotal)\n"
      ],
      "metadata": {
        "colab": {
          "base_uri": "https://localhost:8080/"
        },
        "id": "pmISp50Kk41P",
        "outputId": "10050a5c-ebab-40e1-863d-cbdd28749634"
      },
      "execution_count": 15,
      "outputs": [
        {
          "output_type": "stream",
          "name": "stdout",
          "text": [
            "\n",
            "Ahorro por año:\n",
            "+--------+----------+\n",
            "| Año    |   Ahorro |\n",
            "+========+==========+\n",
            "| Año 1  |       60 |\n",
            "+--------+----------+\n",
            "| Año 2  |      180 |\n",
            "+--------+----------+\n",
            "| Año 3  |      300 |\n",
            "+--------+----------+\n",
            "| Año 4  |      420 |\n",
            "+--------+----------+\n",
            "| Año 5  |      540 |\n",
            "+--------+----------+\n",
            "| Año 6  |      660 |\n",
            "+--------+----------+\n",
            "| Año 7  |      780 |\n",
            "+--------+----------+\n",
            "| Año 8  |      900 |\n",
            "+--------+----------+\n",
            "| Año 9  |     1020 |\n",
            "+--------+----------+\n",
            "| Año 10 |     1140 |\n",
            "+--------+----------+\n",
            "| Año 11 |     1260 |\n",
            "+--------+----------+\n",
            "| Año 12 |     1380 |\n",
            "+--------+----------+\n",
            "| Año 13 |     1500 |\n",
            "+--------+----------+\n",
            "| Año 14 |     1620 |\n",
            "+--------+----------+\n",
            "| Año 15 |     1740 |\n",
            "+--------+----------+\n",
            "La cantidad total ahorrada despues de 15 años es de:  13500\n"
          ]
        }
      ]
    }
  ]
}